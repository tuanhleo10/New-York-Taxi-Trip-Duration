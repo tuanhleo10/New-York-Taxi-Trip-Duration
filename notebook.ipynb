{
 "cells": [
  {
   "cell_type": "code",
   "execution_count": 1,
   "metadata": {},
   "outputs": [
    {
     "data": {
      "text/plain": [
       "'\\nThe purpose of this analysis is to accurately predict the duration of taxi trips in New York City. This work is for a Kaggle competition. To make our predictions, we will use a feed-forward neural network using TensorFlow, a RandomForest Regressor, Lightgbm, and Catboost. Random search will be used to find the optimal network architecture and hyperparameter values for each model.\\n\\nThe sections of this analysis are:\\n\\nLoading the Data\\nCleaning the Data\\nBuilding the Neural Network\\nTraining the Neural Network\\nTraining the Other Models\\nMaking Predictions\\nSummary\\n'"
      ]
     },
     "execution_count": 1,
     "metadata": {},
     "output_type": "execute_result"
    }
   ],
   "source": [
    "'''\n",
    "The purpose of this analysis is to accurately predict the duration of taxi trips in New York City. This work is for a Kaggle competition. To make our predictions, we will use a feed-forward neural network using TensorFlow, a RandomForest Regressor, Lightgbm, and Catboost. Random search will be used to find the optimal network architecture and hyperparameter values for each model.\n",
    "\n",
    "The sections of this analysis are:\n",
    "\n",
    "Loading the Data\n",
    "Cleaning the Data\n",
    "Building the Neural Network\n",
    "Training the Neural Network\n",
    "Training the Other Models\n",
    "Making Predictions\n",
    "Summary\n",
    "'''"
   ]
  },
  {
   "cell_type": "code",
   "execution_count": 2,
   "metadata": {},
   "outputs": [
    {
     "name": "stderr",
     "output_type": "stream",
     "text": [
      "/usr/lib/python3/dist-packages/requests/__init__.py:80: RequestsDependencyWarning: urllib3 (1.23) or chardet (3.0.4) doesn't match a supported version!\n",
      "  RequestsDependencyWarning)\n"
     ]
    },
    {
     "name": "stdout",
     "output_type": "stream",
     "text": [
      "1.11.0\n"
     ]
    }
   ],
   "source": [
    "import pandas as pd\n",
    "import numpy as np \n",
    "import tensorflow as tf \n",
    "from sklearn.ensemble import RandomForestRegressor as RFR\n",
    "import lightgbm as lgb\n",
    "from catboost import CatBoostRegressor\n",
    "\n",
    "from collections import namedtuple\n",
    "from pandas.tseries.holiday import USFederalHolidayCalendar\n",
    "from pandas.tseries.offsets import CustomBusinessDay\n",
    "\n",
    "from sklearn.model_selection import train_test_split\n",
    "import xgboost as xgb\n",
    "from sklearn.linear_model import LinearRegression, Ridge,BayesianRidge\n",
    "from sklearn.cluster import MiniBatchKMeans\n",
    "from sklearn.metrics import mean_squared_error\n",
    "from math import radians, cos, sin, asin, sqrt\n",
    "\n",
    "import time\n",
    "import operator\n",
    "import haversine\n",
    "from sklearn.cluster import KMeans\n",
    "from sklearn.decomposition import PCA\n",
    "from sklearn.model_selection import train_test_split\n",
    "from sklearn.metrics import mean_squared_error\n",
    "from datetime import timedelta\n",
    "import seaborn as sns\n",
    "import matplotlib.pyplot as plt\n",
    "%matplotlib inline  \n",
    "# plt.rcParams['axes.labelsize'] = 14\n",
    "# plt.rcParams['xtick.labelsize'] = 12\n",
    "# plt.rcParams['ytick.labelsize'] = 12\n",
    "\n",
    "print(tf.__version__)"
   ]
  },
  {
   "cell_type": "code",
   "execution_count": 3,
   "metadata": {},
   "outputs": [],
   "source": [
    "# Where to save the figures\n",
    "import os\n",
    "PROJECT_ROOT_DIR = \".\"\n",
    "if os.path.isdir(\"image\"):\n",
    "    os.mkdir(\"image\")\n",
    "IMAGES_PATH = os.path.join(PROJECT_ROOT_DIR, \"image\")\n",
    "\n",
    "def save_fig(fig_id, tight_layout=True, fig_extension=\"png\", resolution=300):\n",
    "    path = os.path.join(IMAGES_PATH, fig_id + \".\" + fig_extension)\n",
    "    print(\"Saving figure\", fig_id)\n",
    "    if tight_layout:\n",
    "        plt.tight_layout()\n",
    "    plt.savefig(path, format=fig_extension, dpi=resolution)\n",
    "\n",
    "# Ignore useless warnings (see SciPy issue #5998)\n",
    "import warnings\n",
    "warnings.filterwarnings(action=\"ignore\", message=\"^internal gelsd\")"
   ]
  },
  {
   "cell_type": "code",
   "execution_count": 21,
   "metadata": {},
   "outputs": [
    {
     "name": "stdout",
     "output_type": "stream",
     "text": [
      "sample_submission  test  train\r\n"
     ]
    },
    {
     "ename": "FileNotFoundError",
     "evalue": "[Errno 2] No such file or directory: 'data/sample_submission.zip'",
     "output_type": "error",
     "traceback": [
      "\u001b[0;31m---------------------------------------------------------------------------\u001b[0m",
      "\u001b[0;31mFileNotFoundError\u001b[0m                         Traceback (most recent call last)",
      "\u001b[0;32m<ipython-input-21-15b8d4ccee9a>\u001b[0m in \u001b[0;36m<module>\u001b[0;34m()\u001b[0m\n\u001b[1;32m     11\u001b[0m         \u001b[0mos\u001b[0m\u001b[0;34m.\u001b[0m\u001b[0mremove\u001b[0m\u001b[0;34m(\u001b[0m\u001b[0mpath\u001b[0m\u001b[0;34m)\u001b[0m\u001b[0;34m\u001b[0m\u001b[0m\n\u001b[1;32m     12\u001b[0m \u001b[0;34m\u001b[0m\u001b[0m\n\u001b[0;32m---> 13\u001b[0;31m \u001b[0mextract\u001b[0m\u001b[0;34m(\u001b[0m\u001b[0;34m[\u001b[0m\u001b[0;34m'sample_submission.zip'\u001b[0m\u001b[0;34m,\u001b[0m \u001b[0;34m'test.zip'\u001b[0m\u001b[0;34m,\u001b[0m \u001b[0;34m'train.zip'\u001b[0m\u001b[0;34m]\u001b[0m\u001b[0;34m)\u001b[0m\u001b[0;34m\u001b[0m\u001b[0m\n\u001b[0m",
      "\u001b[0;32m<ipython-input-21-15b8d4ccee9a>\u001b[0m in \u001b[0;36mextract\u001b[0;34m(files)\u001b[0m\n\u001b[1;32m      5\u001b[0m     \u001b[0;32mfor\u001b[0m \u001b[0mfile\u001b[0m \u001b[0;32min\u001b[0m \u001b[0mfiles\u001b[0m\u001b[0;34m:\u001b[0m\u001b[0;34m\u001b[0m\u001b[0m\n\u001b[1;32m      6\u001b[0m         \u001b[0mpath\u001b[0m \u001b[0;34m=\u001b[0m \u001b[0mos\u001b[0m\u001b[0;34m.\u001b[0m\u001b[0mpath\u001b[0m\u001b[0;34m.\u001b[0m\u001b[0mjoin\u001b[0m\u001b[0;34m(\u001b[0m\u001b[0;34m\"data\"\u001b[0m\u001b[0;34m,\u001b[0m \u001b[0mfile\u001b[0m\u001b[0;34m)\u001b[0m\u001b[0;34m\u001b[0m\u001b[0m\n\u001b[0;32m----> 7\u001b[0;31m         \u001b[0mzip_ref\u001b[0m \u001b[0;34m=\u001b[0m \u001b[0mzipfile\u001b[0m\u001b[0;34m.\u001b[0m\u001b[0mZipFile\u001b[0m\u001b[0;34m(\u001b[0m\u001b[0mpath\u001b[0m\u001b[0;34m,\u001b[0m \u001b[0;34m'r'\u001b[0m\u001b[0;34m)\u001b[0m\u001b[0;34m\u001b[0m\u001b[0m\n\u001b[0m\u001b[1;32m      8\u001b[0m         \u001b[0mprint\u001b[0m\u001b[0;34m(\u001b[0m\u001b[0mzip_ref\u001b[0m\u001b[0;34m)\u001b[0m\u001b[0;34m\u001b[0m\u001b[0m\n\u001b[1;32m      9\u001b[0m         \u001b[0mzip_ref\u001b[0m\u001b[0;34m.\u001b[0m\u001b[0mextractall\u001b[0m\u001b[0;34m(\u001b[0m\u001b[0;34m'data/'\u001b[0m \u001b[0;34m+\u001b[0m \u001b[0mfile\u001b[0m\u001b[0;34m.\u001b[0m\u001b[0msplit\u001b[0m\u001b[0;34m(\u001b[0m\u001b[0;34m\".\"\u001b[0m\u001b[0;34m)\u001b[0m\u001b[0;34m[\u001b[0m\u001b[0;36m0\u001b[0m\u001b[0;34m]\u001b[0m\u001b[0;34m)\u001b[0m\u001b[0;34m\u001b[0m\u001b[0m\n",
      "\u001b[0;32m/usr/lib/python3.6/zipfile.py\u001b[0m in \u001b[0;36m__init__\u001b[0;34m(self, file, mode, compression, allowZip64)\u001b[0m\n\u001b[1;32m   1088\u001b[0m             \u001b[0;32mwhile\u001b[0m \u001b[0;32mTrue\u001b[0m\u001b[0;34m:\u001b[0m\u001b[0;34m\u001b[0m\u001b[0m\n\u001b[1;32m   1089\u001b[0m                 \u001b[0;32mtry\u001b[0m\u001b[0;34m:\u001b[0m\u001b[0;34m\u001b[0m\u001b[0m\n\u001b[0;32m-> 1090\u001b[0;31m                     \u001b[0mself\u001b[0m\u001b[0;34m.\u001b[0m\u001b[0mfp\u001b[0m \u001b[0;34m=\u001b[0m \u001b[0mio\u001b[0m\u001b[0;34m.\u001b[0m\u001b[0mopen\u001b[0m\u001b[0;34m(\u001b[0m\u001b[0mfile\u001b[0m\u001b[0;34m,\u001b[0m \u001b[0mfilemode\u001b[0m\u001b[0;34m)\u001b[0m\u001b[0;34m\u001b[0m\u001b[0m\n\u001b[0m\u001b[1;32m   1091\u001b[0m                 \u001b[0;32mexcept\u001b[0m \u001b[0mOSError\u001b[0m\u001b[0;34m:\u001b[0m\u001b[0;34m\u001b[0m\u001b[0m\n\u001b[1;32m   1092\u001b[0m                     \u001b[0;32mif\u001b[0m \u001b[0mfilemode\u001b[0m \u001b[0;32min\u001b[0m \u001b[0mmodeDict\u001b[0m\u001b[0;34m:\u001b[0m\u001b[0;34m\u001b[0m\u001b[0m\n",
      "\u001b[0;31mFileNotFoundError\u001b[0m: [Errno 2] No such file or directory: 'data/sample_submission.zip'"
     ]
    }
   ],
   "source": [
    "#Extract zip file\n",
    "!ls data\n",
    "import zipfile\n",
    "def extract(files):\n",
    "    for file in files:\n",
    "        path = os.path.join(\"data\", file)\n",
    "        zip_ref = zipfile.ZipFile(path, 'r')\n",
    "        print(zip_ref)\n",
    "        zip_ref.extractall('data/' + file.split(\".\")[0])\n",
    "        zip_ref.close()\n",
    "        os.remove(path)\n",
    "\n",
    "extract(['sample_submission.zip', 'test.zip', 'train.zip'])"
   ]
  },
  {
   "cell_type": "code",
   "execution_count": 4,
   "metadata": {},
   "outputs": [],
   "source": [
    "# Loading data\n",
    "train = pd.read_csv('data/train/train.csv')\n",
    "test = pd.read_csv('data/test/test.csv')"
   ]
  },
  {
   "cell_type": "code",
   "execution_count": 5,
   "metadata": {},
   "outputs": [
    {
     "data": {
      "text/html": [
       "<div>\n",
       "<style scoped>\n",
       "    .dataframe tbody tr th:only-of-type {\n",
       "        vertical-align: middle;\n",
       "    }\n",
       "\n",
       "    .dataframe tbody tr th {\n",
       "        vertical-align: top;\n",
       "    }\n",
       "\n",
       "    .dataframe thead th {\n",
       "        text-align: right;\n",
       "    }\n",
       "</style>\n",
       "<table border=\"1\" class=\"dataframe\">\n",
       "  <thead>\n",
       "    <tr style=\"text-align: right;\">\n",
       "      <th></th>\n",
       "      <th>id</th>\n",
       "      <th>vendor_id</th>\n",
       "      <th>pickup_datetime</th>\n",
       "      <th>dropoff_datetime</th>\n",
       "      <th>passenger_count</th>\n",
       "      <th>pickup_longitude</th>\n",
       "      <th>pickup_latitude</th>\n",
       "      <th>dropoff_longitude</th>\n",
       "      <th>dropoff_latitude</th>\n",
       "      <th>store_and_fwd_flag</th>\n",
       "      <th>trip_duration</th>\n",
       "    </tr>\n",
       "  </thead>\n",
       "  <tbody>\n",
       "    <tr>\n",
       "      <th>0</th>\n",
       "      <td>id2875421</td>\n",
       "      <td>2</td>\n",
       "      <td>2016-03-14 17:24:55</td>\n",
       "      <td>2016-03-14 17:32:30</td>\n",
       "      <td>1</td>\n",
       "      <td>-73.982155</td>\n",
       "      <td>40.767937</td>\n",
       "      <td>-73.964630</td>\n",
       "      <td>40.765602</td>\n",
       "      <td>N</td>\n",
       "      <td>455</td>\n",
       "    </tr>\n",
       "    <tr>\n",
       "      <th>1</th>\n",
       "      <td>id2377394</td>\n",
       "      <td>1</td>\n",
       "      <td>2016-06-12 00:43:35</td>\n",
       "      <td>2016-06-12 00:54:38</td>\n",
       "      <td>1</td>\n",
       "      <td>-73.980415</td>\n",
       "      <td>40.738564</td>\n",
       "      <td>-73.999481</td>\n",
       "      <td>40.731152</td>\n",
       "      <td>N</td>\n",
       "      <td>663</td>\n",
       "    </tr>\n",
       "    <tr>\n",
       "      <th>2</th>\n",
       "      <td>id3858529</td>\n",
       "      <td>2</td>\n",
       "      <td>2016-01-19 11:35:24</td>\n",
       "      <td>2016-01-19 12:10:48</td>\n",
       "      <td>1</td>\n",
       "      <td>-73.979027</td>\n",
       "      <td>40.763939</td>\n",
       "      <td>-74.005333</td>\n",
       "      <td>40.710087</td>\n",
       "      <td>N</td>\n",
       "      <td>2124</td>\n",
       "    </tr>\n",
       "    <tr>\n",
       "      <th>3</th>\n",
       "      <td>id3504673</td>\n",
       "      <td>2</td>\n",
       "      <td>2016-04-06 19:32:31</td>\n",
       "      <td>2016-04-06 19:39:40</td>\n",
       "      <td>1</td>\n",
       "      <td>-74.010040</td>\n",
       "      <td>40.719971</td>\n",
       "      <td>-74.012268</td>\n",
       "      <td>40.706718</td>\n",
       "      <td>N</td>\n",
       "      <td>429</td>\n",
       "    </tr>\n",
       "    <tr>\n",
       "      <th>4</th>\n",
       "      <td>id2181028</td>\n",
       "      <td>2</td>\n",
       "      <td>2016-03-26 13:30:55</td>\n",
       "      <td>2016-03-26 13:38:10</td>\n",
       "      <td>1</td>\n",
       "      <td>-73.973053</td>\n",
       "      <td>40.793209</td>\n",
       "      <td>-73.972923</td>\n",
       "      <td>40.782520</td>\n",
       "      <td>N</td>\n",
       "      <td>435</td>\n",
       "    </tr>\n",
       "  </tbody>\n",
       "</table>\n",
       "</div>"
      ],
      "text/plain": [
       "          id  vendor_id      pickup_datetime     dropoff_datetime  \\\n",
       "0  id2875421          2  2016-03-14 17:24:55  2016-03-14 17:32:30   \n",
       "1  id2377394          1  2016-06-12 00:43:35  2016-06-12 00:54:38   \n",
       "2  id3858529          2  2016-01-19 11:35:24  2016-01-19 12:10:48   \n",
       "3  id3504673          2  2016-04-06 19:32:31  2016-04-06 19:39:40   \n",
       "4  id2181028          2  2016-03-26 13:30:55  2016-03-26 13:38:10   \n",
       "\n",
       "   passenger_count  pickup_longitude  pickup_latitude  dropoff_longitude  \\\n",
       "0                1        -73.982155        40.767937         -73.964630   \n",
       "1                1        -73.980415        40.738564         -73.999481   \n",
       "2                1        -73.979027        40.763939         -74.005333   \n",
       "3                1        -74.010040        40.719971         -74.012268   \n",
       "4                1        -73.973053        40.793209         -73.972923   \n",
       "\n",
       "   dropoff_latitude store_and_fwd_flag  trip_duration  \n",
       "0         40.765602                  N            455  \n",
       "1         40.731152                  N            663  \n",
       "2         40.710087                  N           2124  \n",
       "3         40.706718                  N            429  \n",
       "4         40.782520                  N            435  "
      ]
     },
     "execution_count": 5,
     "metadata": {},
     "output_type": "execute_result"
    }
   ],
   "source": [
    "train.head()"
   ]
  },
  {
   "cell_type": "code",
   "execution_count": 6,
   "metadata": {},
   "outputs": [
    {
     "data": {
      "text/html": [
       "<div>\n",
       "<style scoped>\n",
       "    .dataframe tbody tr th:only-of-type {\n",
       "        vertical-align: middle;\n",
       "    }\n",
       "\n",
       "    .dataframe tbody tr th {\n",
       "        vertical-align: top;\n",
       "    }\n",
       "\n",
       "    .dataframe thead th {\n",
       "        text-align: right;\n",
       "    }\n",
       "</style>\n",
       "<table border=\"1\" class=\"dataframe\">\n",
       "  <thead>\n",
       "    <tr style=\"text-align: right;\">\n",
       "      <th></th>\n",
       "      <th>id</th>\n",
       "      <th>vendor_id</th>\n",
       "      <th>pickup_datetime</th>\n",
       "      <th>passenger_count</th>\n",
       "      <th>pickup_longitude</th>\n",
       "      <th>pickup_latitude</th>\n",
       "      <th>dropoff_longitude</th>\n",
       "      <th>dropoff_latitude</th>\n",
       "      <th>store_and_fwd_flag</th>\n",
       "    </tr>\n",
       "  </thead>\n",
       "  <tbody>\n",
       "    <tr>\n",
       "      <th>0</th>\n",
       "      <td>id3004672</td>\n",
       "      <td>1</td>\n",
       "      <td>2016-06-30 23:59:58</td>\n",
       "      <td>1</td>\n",
       "      <td>-73.988129</td>\n",
       "      <td>40.732029</td>\n",
       "      <td>-73.990173</td>\n",
       "      <td>40.756680</td>\n",
       "      <td>N</td>\n",
       "    </tr>\n",
       "    <tr>\n",
       "      <th>1</th>\n",
       "      <td>id3505355</td>\n",
       "      <td>1</td>\n",
       "      <td>2016-06-30 23:59:53</td>\n",
       "      <td>1</td>\n",
       "      <td>-73.964203</td>\n",
       "      <td>40.679993</td>\n",
       "      <td>-73.959808</td>\n",
       "      <td>40.655403</td>\n",
       "      <td>N</td>\n",
       "    </tr>\n",
       "    <tr>\n",
       "      <th>2</th>\n",
       "      <td>id1217141</td>\n",
       "      <td>1</td>\n",
       "      <td>2016-06-30 23:59:47</td>\n",
       "      <td>1</td>\n",
       "      <td>-73.997437</td>\n",
       "      <td>40.737583</td>\n",
       "      <td>-73.986160</td>\n",
       "      <td>40.729523</td>\n",
       "      <td>N</td>\n",
       "    </tr>\n",
       "    <tr>\n",
       "      <th>3</th>\n",
       "      <td>id2150126</td>\n",
       "      <td>2</td>\n",
       "      <td>2016-06-30 23:59:41</td>\n",
       "      <td>1</td>\n",
       "      <td>-73.956070</td>\n",
       "      <td>40.771900</td>\n",
       "      <td>-73.986427</td>\n",
       "      <td>40.730469</td>\n",
       "      <td>N</td>\n",
       "    </tr>\n",
       "    <tr>\n",
       "      <th>4</th>\n",
       "      <td>id1598245</td>\n",
       "      <td>1</td>\n",
       "      <td>2016-06-30 23:59:33</td>\n",
       "      <td>1</td>\n",
       "      <td>-73.970215</td>\n",
       "      <td>40.761475</td>\n",
       "      <td>-73.961510</td>\n",
       "      <td>40.755890</td>\n",
       "      <td>N</td>\n",
       "    </tr>\n",
       "  </tbody>\n",
       "</table>\n",
       "</div>"
      ],
      "text/plain": [
       "          id  vendor_id      pickup_datetime  passenger_count  \\\n",
       "0  id3004672          1  2016-06-30 23:59:58                1   \n",
       "1  id3505355          1  2016-06-30 23:59:53                1   \n",
       "2  id1217141          1  2016-06-30 23:59:47                1   \n",
       "3  id2150126          2  2016-06-30 23:59:41                1   \n",
       "4  id1598245          1  2016-06-30 23:59:33                1   \n",
       "\n",
       "   pickup_longitude  pickup_latitude  dropoff_longitude  dropoff_latitude  \\\n",
       "0        -73.988129        40.732029         -73.990173         40.756680   \n",
       "1        -73.964203        40.679993         -73.959808         40.655403   \n",
       "2        -73.997437        40.737583         -73.986160         40.729523   \n",
       "3        -73.956070        40.771900         -73.986427         40.730469   \n",
       "4        -73.970215        40.761475         -73.961510         40.755890   \n",
       "\n",
       "  store_and_fwd_flag  \n",
       "0                  N  \n",
       "1                  N  \n",
       "2                  N  \n",
       "3                  N  \n",
       "4                  N  "
      ]
     },
     "execution_count": 6,
     "metadata": {},
     "output_type": "execute_result"
    }
   ],
   "source": [
    "test.head()"
   ]
  },
  {
   "cell_type": "code",
   "execution_count": 7,
   "metadata": {},
   "outputs": [
    {
     "data": {
      "text/html": [
       "<div>\n",
       "<style scoped>\n",
       "    .dataframe tbody tr th:only-of-type {\n",
       "        vertical-align: middle;\n",
       "    }\n",
       "\n",
       "    .dataframe tbody tr th {\n",
       "        vertical-align: top;\n",
       "    }\n",
       "\n",
       "    .dataframe thead th {\n",
       "        text-align: right;\n",
       "    }\n",
       "</style>\n",
       "<table border=\"1\" class=\"dataframe\">\n",
       "  <thead>\n",
       "    <tr style=\"text-align: right;\">\n",
       "      <th></th>\n",
       "      <th>id</th>\n",
       "      <th>vendor_id</th>\n",
       "      <th>pickup_datetime</th>\n",
       "      <th>dropoff_datetime</th>\n",
       "      <th>passenger_count</th>\n",
       "      <th>pickup_longitude</th>\n",
       "      <th>pickup_latitude</th>\n",
       "      <th>dropoff_longitude</th>\n",
       "      <th>dropoff_latitude</th>\n",
       "      <th>store_and_fwd_flag</th>\n",
       "      <th>trip_duration</th>\n",
       "    </tr>\n",
       "  </thead>\n",
       "  <tbody>\n",
       "    <tr>\n",
       "      <th>0</th>\n",
       "      <td>id2875421</td>\n",
       "      <td>2</td>\n",
       "      <td>2016-03-14 17:24:55</td>\n",
       "      <td>2016-03-14 17:32:30</td>\n",
       "      <td>1</td>\n",
       "      <td>-73.982</td>\n",
       "      <td>40.768</td>\n",
       "      <td>-73.965</td>\n",
       "      <td>40.766</td>\n",
       "      <td>N</td>\n",
       "      <td>455</td>\n",
       "    </tr>\n",
       "    <tr>\n",
       "      <th>1</th>\n",
       "      <td>id2377394</td>\n",
       "      <td>1</td>\n",
       "      <td>2016-06-12 00:43:35</td>\n",
       "      <td>2016-06-12 00:54:38</td>\n",
       "      <td>1</td>\n",
       "      <td>-73.980</td>\n",
       "      <td>40.739</td>\n",
       "      <td>-73.999</td>\n",
       "      <td>40.731</td>\n",
       "      <td>N</td>\n",
       "      <td>663</td>\n",
       "    </tr>\n",
       "    <tr>\n",
       "      <th>2</th>\n",
       "      <td>id3858529</td>\n",
       "      <td>2</td>\n",
       "      <td>2016-01-19 11:35:24</td>\n",
       "      <td>2016-01-19 12:10:48</td>\n",
       "      <td>1</td>\n",
       "      <td>-73.979</td>\n",
       "      <td>40.764</td>\n",
       "      <td>-74.005</td>\n",
       "      <td>40.710</td>\n",
       "      <td>N</td>\n",
       "      <td>2124</td>\n",
       "    </tr>\n",
       "    <tr>\n",
       "      <th>3</th>\n",
       "      <td>id3504673</td>\n",
       "      <td>2</td>\n",
       "      <td>2016-04-06 19:32:31</td>\n",
       "      <td>2016-04-06 19:39:40</td>\n",
       "      <td>1</td>\n",
       "      <td>-74.010</td>\n",
       "      <td>40.720</td>\n",
       "      <td>-74.012</td>\n",
       "      <td>40.707</td>\n",
       "      <td>N</td>\n",
       "      <td>429</td>\n",
       "    </tr>\n",
       "    <tr>\n",
       "      <th>4</th>\n",
       "      <td>id2181028</td>\n",
       "      <td>2</td>\n",
       "      <td>2016-03-26 13:30:55</td>\n",
       "      <td>2016-03-26 13:38:10</td>\n",
       "      <td>1</td>\n",
       "      <td>-73.973</td>\n",
       "      <td>40.793</td>\n",
       "      <td>-73.973</td>\n",
       "      <td>40.783</td>\n",
       "      <td>N</td>\n",
       "      <td>435</td>\n",
       "    </tr>\n",
       "  </tbody>\n",
       "</table>\n",
       "</div>"
      ],
      "text/plain": [
       "          id  vendor_id      pickup_datetime     dropoff_datetime  \\\n",
       "0  id2875421          2  2016-03-14 17:24:55  2016-03-14 17:32:30   \n",
       "1  id2377394          1  2016-06-12 00:43:35  2016-06-12 00:54:38   \n",
       "2  id3858529          2  2016-01-19 11:35:24  2016-01-19 12:10:48   \n",
       "3  id3504673          2  2016-04-06 19:32:31  2016-04-06 19:39:40   \n",
       "4  id2181028          2  2016-03-26 13:30:55  2016-03-26 13:38:10   \n",
       "\n",
       "   passenger_count  pickup_longitude  pickup_latitude  dropoff_longitude  \\\n",
       "0                1           -73.982           40.768            -73.965   \n",
       "1                1           -73.980           40.739            -73.999   \n",
       "2                1           -73.979           40.764            -74.005   \n",
       "3                1           -74.010           40.720            -74.012   \n",
       "4                1           -73.973           40.793            -73.973   \n",
       "\n",
       "   dropoff_latitude store_and_fwd_flag  trip_duration  \n",
       "0            40.766                  N            455  \n",
       "1            40.731                  N            663  \n",
       "2            40.710                  N           2124  \n",
       "3            40.707                  N            429  \n",
       "4            40.783                  N            435  "
      ]
     },
     "execution_count": 7,
     "metadata": {},
     "output_type": "execute_result"
    }
   ],
   "source": [
    "pd.set_option('display.float_format', lambda x: '%.3f' % x)\n",
    "train.head()"
   ]
  },
  {
   "cell_type": "code",
   "execution_count": 8,
   "metadata": {},
   "outputs": [
    {
     "data": {
      "text/html": [
       "<div>\n",
       "<style scoped>\n",
       "    .dataframe tbody tr th:only-of-type {\n",
       "        vertical-align: middle;\n",
       "    }\n",
       "\n",
       "    .dataframe tbody tr th {\n",
       "        vertical-align: top;\n",
       "    }\n",
       "\n",
       "    .dataframe thead th {\n",
       "        text-align: right;\n",
       "    }\n",
       "</style>\n",
       "<table border=\"1\" class=\"dataframe\">\n",
       "  <thead>\n",
       "    <tr style=\"text-align: right;\">\n",
       "      <th></th>\n",
       "      <th>vendor_id</th>\n",
       "      <th>passenger_count</th>\n",
       "      <th>pickup_longitude</th>\n",
       "      <th>pickup_latitude</th>\n",
       "      <th>dropoff_longitude</th>\n",
       "      <th>dropoff_latitude</th>\n",
       "      <th>trip_duration</th>\n",
       "    </tr>\n",
       "  </thead>\n",
       "  <tbody>\n",
       "    <tr>\n",
       "      <th>count</th>\n",
       "      <td>1458644.000</td>\n",
       "      <td>1458644.000</td>\n",
       "      <td>1458644.000</td>\n",
       "      <td>1458644.000</td>\n",
       "      <td>1458644.000</td>\n",
       "      <td>1458644.000</td>\n",
       "      <td>1458644.000</td>\n",
       "    </tr>\n",
       "    <tr>\n",
       "      <th>mean</th>\n",
       "      <td>1.535</td>\n",
       "      <td>1.665</td>\n",
       "      <td>-73.973</td>\n",
       "      <td>40.751</td>\n",
       "      <td>-73.973</td>\n",
       "      <td>40.752</td>\n",
       "      <td>959.492</td>\n",
       "    </tr>\n",
       "    <tr>\n",
       "      <th>std</th>\n",
       "      <td>0.499</td>\n",
       "      <td>1.314</td>\n",
       "      <td>0.071</td>\n",
       "      <td>0.033</td>\n",
       "      <td>0.071</td>\n",
       "      <td>0.036</td>\n",
       "      <td>5237.432</td>\n",
       "    </tr>\n",
       "    <tr>\n",
       "      <th>min</th>\n",
       "      <td>1.000</td>\n",
       "      <td>0.000</td>\n",
       "      <td>-121.933</td>\n",
       "      <td>34.360</td>\n",
       "      <td>-121.933</td>\n",
       "      <td>32.181</td>\n",
       "      <td>1.000</td>\n",
       "    </tr>\n",
       "    <tr>\n",
       "      <th>25%</th>\n",
       "      <td>1.000</td>\n",
       "      <td>1.000</td>\n",
       "      <td>-73.992</td>\n",
       "      <td>40.737</td>\n",
       "      <td>-73.991</td>\n",
       "      <td>40.736</td>\n",
       "      <td>397.000</td>\n",
       "    </tr>\n",
       "    <tr>\n",
       "      <th>50%</th>\n",
       "      <td>2.000</td>\n",
       "      <td>1.000</td>\n",
       "      <td>-73.982</td>\n",
       "      <td>40.754</td>\n",
       "      <td>-73.980</td>\n",
       "      <td>40.755</td>\n",
       "      <td>662.000</td>\n",
       "    </tr>\n",
       "    <tr>\n",
       "      <th>75%</th>\n",
       "      <td>2.000</td>\n",
       "      <td>2.000</td>\n",
       "      <td>-73.967</td>\n",
       "      <td>40.768</td>\n",
       "      <td>-73.963</td>\n",
       "      <td>40.770</td>\n",
       "      <td>1075.000</td>\n",
       "    </tr>\n",
       "    <tr>\n",
       "      <th>max</th>\n",
       "      <td>2.000</td>\n",
       "      <td>9.000</td>\n",
       "      <td>-61.336</td>\n",
       "      <td>51.881</td>\n",
       "      <td>-61.336</td>\n",
       "      <td>43.921</td>\n",
       "      <td>3526282.000</td>\n",
       "    </tr>\n",
       "  </tbody>\n",
       "</table>\n",
       "</div>"
      ],
      "text/plain": [
       "        vendor_id  passenger_count  pickup_longitude  pickup_latitude  \\\n",
       "count 1458644.000      1458644.000       1458644.000      1458644.000   \n",
       "mean        1.535            1.665           -73.973           40.751   \n",
       "std         0.499            1.314             0.071            0.033   \n",
       "min         1.000            0.000          -121.933           34.360   \n",
       "25%         1.000            1.000           -73.992           40.737   \n",
       "50%         2.000            1.000           -73.982           40.754   \n",
       "75%         2.000            2.000           -73.967           40.768   \n",
       "max         2.000            9.000           -61.336           51.881   \n",
       "\n",
       "       dropoff_longitude  dropoff_latitude  trip_duration  \n",
       "count        1458644.000       1458644.000    1458644.000  \n",
       "mean             -73.973            40.752        959.492  \n",
       "std                0.071             0.036       5237.432  \n",
       "min             -121.933            32.181          1.000  \n",
       "25%              -73.991            40.736        397.000  \n",
       "50%              -73.980            40.755        662.000  \n",
       "75%              -73.963            40.770       1075.000  \n",
       "max              -61.336            43.921    3526282.000  "
      ]
     },
     "execution_count": 8,
     "metadata": {},
     "output_type": "execute_result"
    }
   ],
   "source": [
    "#Data summary\n",
    "pd.set_option('display.float_format', lambda x: '%.3f' % x)\n",
    "train.describe()"
   ]
  },
  {
   "cell_type": "code",
   "execution_count": 9,
   "metadata": {},
   "outputs": [],
   "source": [
    "#A minimum of 1 second, and a maximum of 3 526 282 seconds (roughly 980 hours). No way someone took a trip that long, the bill would be astronomical. And a 1 second trip won't get you anywhere. So clearly there are some outliers we need to deal with.\n",
    "#As a final way of looking at the data initially, consider the use of Pandas' `info` function. The advantage of using this particular function is getting an almost combined view of `describe` and `head`/`tail`, together with `shape` (which describes the number of rows and columns in the particular file). More on the use and output of `info` [here](https://pandas.pydata.org/pandas-docs/stable/generated/pandas.DataFrame.info.html \"Pandas info\")."
   ]
  },
  {
   "cell_type": "code",
   "execution_count": 10,
   "metadata": {},
   "outputs": [
    {
     "name": "stdout",
     "output_type": "stream",
     "text": [
      "<class 'pandas.core.frame.DataFrame'>\n",
      "RangeIndex: 1458644 entries, 0 to 1458643\n",
      "Data columns (total 11 columns):\n",
      "id                    1458644 non-null object\n",
      "vendor_id             1458644 non-null int64\n",
      "pickup_datetime       1458644 non-null object\n",
      "dropoff_datetime      1458644 non-null object\n",
      "passenger_count       1458644 non-null int64\n",
      "pickup_longitude      1458644 non-null float64\n",
      "pickup_latitude       1458644 non-null float64\n",
      "dropoff_longitude     1458644 non-null float64\n",
      "dropoff_latitude      1458644 non-null float64\n",
      "store_and_fwd_flag    1458644 non-null object\n",
      "trip_duration         1458644 non-null int64\n",
      "dtypes: float64(4), int64(3), object(4)\n",
      "memory usage: 122.4+ MB\n"
     ]
    }
   ],
   "source": [
    "train.info()"
   ]
  },
  {
   "cell_type": "code",
   "execution_count": 11,
   "metadata": {},
   "outputs": [
    {
     "data": {
      "text/plain": [
       "\"\\nAs we noted earlier there are some outliers associated \\nwith the `trip_duration` variable, specifically a 980 \\nhour maximum trip duration and a minimum of 1 second \\ntrip duration. I've decided to exclude data that lies\\noutside 2 standard deviations from the mean. It might\\nbe worthwhile looking into what effect excluding up \\nto 4 standard deviations would have on the end-results.\\n\""
      ]
     },
     "execution_count": 11,
     "metadata": {},
     "output_type": "execute_result"
    }
   ],
   "source": [
    "#Data Preparation\n",
    "'''\n",
    "As we noted earlier there are some outliers associated \n",
    "with the `trip_duration` variable, specifically a 980 \n",
    "hour maximum trip duration and a minimum of 1 second \n",
    "trip duration. I've decided to exclude data that lies\n",
    "outside 2 standard deviations from the mean. It might\n",
    "be worthwhile looking into what effect excluding up \n",
    "to 4 standard deviations would have on the end-results.\n",
    "'''"
   ]
  },
  {
   "cell_type": "code",
   "execution_count": 12,
   "metadata": {},
   "outputs": [],
   "source": [
    "m = np.mean(train['trip_duration'])\n",
    "s = np.std(train['trip_duration'])\n",
    "train = train[train['trip_duration'] <= m + 2*s]\n",
    "train = train[train['trip_duration'] >= m - 2*s]"
   ]
  },
  {
   "cell_type": "code",
   "execution_count": 13,
   "metadata": {},
   "outputs": [],
   "source": [
    "#Latitude and Longitude Clean-up\n",
    "#Real boder of ny city\n",
    "city_long_border = (-74.03, -73.75)\n",
    "city_lat_border = (40.63, 40.85)\n",
    "\n",
    "train = train[train['pickup_longitude'] <= -73.75]\n",
    "train = train[train['pickup_longitude'] >= -74.03]\n",
    "train = train[train['pickup_latitude'] <= 40.85]\n",
    "train = train[train['pickup_latitude'] >= 40.63]\n",
    "train = train[train['dropoff_longitude'] <= -73.75]\n",
    "train = train[train['dropoff_longitude'] >= -74.03]\n",
    "train = train[train['dropoff_latitude'] <= 40.85]\n",
    "train = train[train['dropoff_latitude'] >= 40.63]"
   ]
  },
  {
   "cell_type": "code",
   "execution_count": 14,
   "metadata": {},
   "outputs": [],
   "source": [
    "#Data Clean-up\n",
    "# As a final step in preparing our data we need to change the formatting\n",
    "# of the date variables (`pickup_datetime` and `dropoff_datetime`). \n",
    "# This will help a lot with data extraction in the coming section."
   ]
  },
  {
   "cell_type": "code",
   "execution_count": 15,
   "metadata": {},
   "outputs": [],
   "source": [
    "# train['pickup_datetime'].dt"
   ]
  },
  {
   "cell_type": "code",
   "execution_count": 16,
   "metadata": {},
   "outputs": [],
   "source": [
    "train['pickup_datetime'] = pd.to_datetime(train.pickup_datetime)\n",
    "test['pickup_datetime'] = pd.to_datetime(test.pickup_datetime)\n",
    "train.loc[:, 'pickup_date'] = train['pickup_datetime'].dt.date\n",
    "test.loc[:, 'pickup_date'] = test['pickup_datetime'].dt.date\n",
    "train['dropoff_datetime'] = pd.to_datetime(train.dropoff_datetime) #Not in Test"
   ]
  },
  {
   "cell_type": "code",
   "execution_count": 17,
   "metadata": {},
   "outputs": [
    {
     "data": {
      "text/plain": [
       "array([ 455,  663, 2124,  429,  435])"
      ]
     },
     "execution_count": 17,
     "metadata": {},
     "output_type": "execute_result"
    }
   ],
   "source": [
    "train['trip_duration'][:5].values"
   ]
  },
  {
   "cell_type": "code",
   "execution_count": 18,
   "metadata": {},
   "outputs": [
    {
     "data": {
      "image/png": "[encoded data removed]",
      "text/plain": [
       "<Figure size 432x288 with 1 Axes>"
      ]
     },
     "metadata": {
      "needs_background": "light"
     },
     "output_type": "display_data"
    }
   ],
   "source": [
    "#Data Visualisation and Analysis\n",
    "'''\n",
    "These next steps involve looking at the data visually.\n",
    "Often you'll discover looking at something significant\n",
    "as a graph rather than a table (for example) will give \n",
    "you far greater insight into its nature and what you \n",
    "might need to do to work with it. Of course, the opposite \n",
    "could also be considered true, so don't neglect the first \n",
    "section we went through.\n",
    "'''\n",
    "\n",
    "#Initial Analysis\n",
    "plt.hist(train['trip_duration'].values, bins=100)\n",
    "plt.xlabel('trip_duration')\n",
    "plt.ylabel('number of train records')\n",
    "plt.show()"
   ]
  },
  {
   "cell_type": "code",
   "execution_count": 19,
   "metadata": {},
   "outputs": [
    {
     "data": {
      "text/plain": [
       "\"\\nThis is a good opportunity to play with some data transformations\\nto see if notable patterns emerge in the data when applying \\ncertain transforms, for example a log transform. In this case\\n, applying a log transformation to the trip duration makes \\nsense, since we are doing this to accommodate \\nthe leaderboard's scoring metric. That would look like this:\\n\""
      ]
     },
     "execution_count": 19,
     "metadata": {},
     "output_type": "execute_result"
    }
   ],
   "source": [
    "'''\n",
    "This is a good opportunity to play with some data transformations\n",
    "to see if notable patterns emerge in the data when applying \n",
    "certain transforms, for example a log transform. In this case\n",
    ", applying a log transformation to the trip duration makes \n",
    "sense, since we are doing this to accommodate \n",
    "the leaderboard's scoring metric. That would look like this:\n",
    "'''"
   ]
  },
  {
   "cell_type": "code",
   "execution_count": 20,
   "metadata": {},
   "outputs": [
    {
     "data": {
      "image/png": "[encoded data removed]",
      "text/plain": [
       "<Figure size 432x288 with 1 Axes>"
      ]
     },
     "metadata": {
      "needs_background": "light"
     },
     "output_type": "display_data"
    },
    {
     "name": "stderr",
     "output_type": "stream",
     "text": [
      "/home/tuanhle/.local/lib/python3.6/site-packages/scipy/stats/stats.py:1713: FutureWarning: Using a non-tuple sequence for multidimensional indexing is deprecated; use `arr[tuple(seq)]` instead of `arr[seq]`. In the future this will be interpreted as an array index, `arr[np.array(seq)]`, which will result either in an error or a different result.\n",
      "  return np.add.reduce(sorted[indexer] * weights, axis=axis) / sumval\n"
     ]
    },
    {
     "data": {
      "text/plain": [
       "<matplotlib.axes._subplots.AxesSubplot at 0x7fc936f13668>"
      ]
     },
     "execution_count": 20,
     "metadata": {},
     "output_type": "execute_result"
    },
    {
     "data": {
      "image/png": "[encoded data removed]",
      "text/plain": [
       "<Figure size 432x288 with 1 Axes>"
      ]
     },
     "metadata": {
      "needs_background": "light"
     },
     "output_type": "display_data"
    }
   ],
   "source": [
    "train['log_trip_duration'] = np.log(train['trip_duration'].values + 1)\n",
    "plt.hist(train['log_trip_duration'].values, bins=100)\n",
    "plt.xlabel('log(trip_duration)')\n",
    "plt.ylabel('number of train records')\n",
    "plt.show()\n",
    "sns.distplot(train[\"log_trip_duration\"], bins =100)"
   ]
  },
  {
   "cell_type": "code",
   "execution_count": 21,
   "metadata": {},
   "outputs": [
    {
     "data": {
      "text/plain": [
       "\"One might also be interested to view the number of trips over time, since this could reveal not only apparent seasonality in the data and certain trends, but could point out any siginficant outliers (if not already cleaned out of the data set of course) and indicate missing values (again, only if it wasn't already checked and cleaned in the data set).\\n\\nFor this we'll simply plot a timeseries line graph of both the \\ntest and training data to not only look into identifying possible \\ntrends/seasonality but to see if both data sets follow the same pattern shape. Reasonably we'd expect the two datasets to follow a very similar shape since the test data would be/is a randomly selected sample from the original dataset containing all data points. By picking the test points randomly, each data point has the same likelihood of being picked as \\na test point, thus ensuring uniformity in the test data sample.\""
      ]
     },
     "execution_count": 21,
     "metadata": {},
     "output_type": "execute_result"
    }
   ],
   "source": [
    "'''One might also be interested to view the number of trips over time, since this could reveal not only apparent seasonality in the data and certain trends, but could point out any siginficant outliers (if not already cleaned out of the data set of course) and indicate missing values (again, only if it wasn't already checked and cleaned in the data set).\n",
    "\n",
    "For this we'll simply plot a timeseries line graph of both the \n",
    "test and training data to not only look into identifying possible \n",
    "trends/seasonality but to see if both data sets follow the same pattern shape. Reasonably we'd expect the two datasets to follow a very similar shape since the test data would be/is a randomly selected sample from the original dataset containing all data points. By picking the test points randomly, each data point has the same likelihood of being picked as \n",
    "a test point, thus ensuring uniformity in the test data sample.'''"
   ]
  },
  {
   "cell_type": "code",
   "execution_count": 22,
   "metadata": {},
   "outputs": [
    {
     "data": {
      "image/png": "[encoded data removed]",
      "text/plain": [
       "<Figure size 432x288 with 1 Axes>"
      ]
     },
     "metadata": {
      "needs_background": "light"
     },
     "output_type": "display_data"
    }
   ],
   "source": [
    "plt.plot(train.groupby('pickup_date').count()[['id']], 'o-', label='train')\n",
    "plt.plot(test.groupby('pickup_date').count()[['id']], 'o-', label='test')\n",
    "plt.title('Trips over Time.')\n",
    "plt.legend(loc=0)\n",
    "plt.ylabel('Trips')\n",
    "plt.show()"
   ]
  },
  {
   "cell_type": "code",
   "execution_count": 23,
   "metadata": {},
   "outputs": [
    {
     "data": {
      "text/plain": [
       "\"\\nClearly the test and train datasets follow a very simila shape, as expected. A couple of points stand out at first glance. Around late-Jan/early-Feb there is a massive drop in the number of trips taken. A slightly less drastic drop is apparent about four months later. The first drop could be related to the season: it's winter in New York so you'd expect less trips being taken (who wants to ride around when it's near freezing outside?). However, this seems unlikely because the dip looks to be isolated around a single day or couple of days. In my opinion there's a greater chance that there were strikes (if you've got the South African mindset I do, but this is New York, so probably not that) or that there was an issue with the data system recording the trips. Whatever the reason, it's worth noting these 'outliers'.\\n\\nLet's see how significantly (or not significantly at all) the two vendors differ in their respective mean trip durations:\\n\\n\\n\""
      ]
     },
     "execution_count": 23,
     "metadata": {},
     "output_type": "execute_result"
    }
   ],
   "source": [
    "'''\n",
    "Clearly the test and train datasets follow a very simila shape, as expected. A couple of points stand out at first glance. Around late-Jan/early-Feb there is a massive drop in the number of trips taken. A slightly less drastic drop is apparent about four months later. The first drop could be related to the season: it's winter in New York so you'd expect less trips being taken (who wants to ride around when it's near freezing outside?). However, this seems unlikely because the dip looks to be isolated around a single day or couple of days. In my opinion there's a greater chance that there were strikes (if you've got the South African mindset I do, but this is New York, so probably not that) or that there was an issue with the data system recording the trips. Whatever the reason, it's worth noting these 'outliers'.\n",
    "\n",
    "Let's see how significantly (or not significantly at all) the two vendors differ in their respective mean trip durations:\n",
    "\n",
    "\n",
    "'''"
   ]
  },
  {
   "cell_type": "code",
   "execution_count": 24,
   "metadata": {},
   "outputs": [
    {
     "name": "stderr",
     "output_type": "stream",
     "text": [
      "No handles with labels found to put in legend.\n"
     ]
    },
    {
     "data": {
      "text/plain": [
       "Text(0, 0.5, 'Time in Seconds')"
      ]
     },
     "execution_count": 24,
     "metadata": {},
     "output_type": "execute_result"
    },
    {
     "data": {
      "image/png": "[encoded data removed]",
      "text/plain": [
       "<Figure size 1224x720 with 1 Axes>"
      ]
     },
     "metadata": {
      "needs_background": "light"
     },
     "output_type": "display_data"
    }
   ],
   "source": [
    "import warnings\n",
    "warnings.filterwarnings(\"ignore\")\n",
    "plot_vendor = train.groupby('vendor_id')['trip_duration'].mean()\n",
    "plt.subplots(1,1,figsize=(17,10))\n",
    "plt.ylim(ymin=800)\n",
    "plt.ylim(ymax=840)\n",
    "sns.barplot(plot_vendor.index,plot_vendor.values)\n",
    "plt.title('Time per Vendor')\n",
    "plt.legend(loc=0)\n",
    "plt.ylabel('Time in Seconds')"
   ]
  },
  {
   "cell_type": "code",
   "execution_count": 25,
   "metadata": {},
   "outputs": [
    {
     "data": {
      "text/plain": [
       "\"\\nSo it doesn't look like there's much of a difference between travel times for the two vendors. One would assume that knowing which routes are the fastest to take from A to B is no secret, and that it is more a trick of the trade, rather than IP. But something doesn't look right, so there's another feature we can use to see if after all there is a significant difference in mean travel time: the `store_and_fwd_flag`.\\n\""
      ]
     },
     "execution_count": 25,
     "metadata": {},
     "output_type": "execute_result"
    }
   ],
   "source": [
    "'''\n",
    "So it doesn't look like there's much of a difference between travel times for the two vendors. One would assume that knowing which routes are the fastest to take from A to B is no secret, and that it is more a trick of the trade, rather than IP. But something doesn't look right, so there's another feature we can use to see if after all there is a significant difference in mean travel time: the `store_and_fwd_flag`.\n",
    "'''"
   ]
  },
  {
   "cell_type": "code",
   "execution_count": 26,
   "metadata": {},
   "outputs": [
    {
     "name": "stderr",
     "output_type": "stream",
     "text": [
      "No handles with labels found to put in legend.\n"
     ]
    },
    {
     "data": {
      "text/plain": [
       "<matplotlib.axes._subplots.AxesSubplot at 0x7fc936b1a048>"
      ]
     },
     "execution_count": 26,
     "metadata": {},
     "output_type": "execute_result"
    },
    {
     "data": {
      "image/png": "[encoded data removed]",
      "text/plain": [
       "<Figure size 1224x720 with 1 Axes>"
      ]
     },
     "metadata": {
      "needs_background": "light"
     },
     "output_type": "display_data"
    }
   ],
   "source": [
    "snwflag = train.groupby('store_and_fwd_flag')['trip_duration'].mean()\n",
    "\n",
    "plt.subplots(1,1,figsize=(17,10))\n",
    "plt.ylim(ymin=0)\n",
    "plt.ylim(ymax=1100)\n",
    "plt.title('Time per store_and_fwd_flag')\n",
    "plt.legend(loc=0)\n",
    "plt.ylabel('Time in Seconds')\n",
    "sns.barplot(snwflag.index,snwflag.values)"
   ]
  },
  {
   "cell_type": "code",
   "execution_count": 27,
   "metadata": {},
   "outputs": [
    {
     "data": {
      "text/plain": [
       "\"So it would seem that the `store_and_fwd_flag` discriminates well between travel times. Clearly there is a slight skew in the data where some of the vendor employees didn't record their travel times accurately.\\nAs mentioned earlier when digging into the variables, I thought about the impact that the number of passengers per trip might have on travel time. The thought process was that more passengers might equal more stops, \\nhence prolonging the travel time from start to finish (unless the different drop-offs were recorded as separate trips). So in order to find out if there is infact a significant influence in travel time, let's group \\nthe mean travel times by the `passenger_count`:\""
      ]
     },
     "execution_count": 27,
     "metadata": {},
     "output_type": "execute_result"
    }
   ],
   "source": [
    "\n",
    "'''So it would seem that the `store_and_fwd_flag` discriminates well between travel times. Clearly there is a slight skew in the data where some of the vendor employees didn't record their travel times accurately.\n",
    "As mentioned earlier when digging into the variables, I thought about the impact that the number of passengers per trip might have on travel time. The thought process was that more passengers might equal more stops, \n",
    "hence prolonging the travel time from start to finish (unless the different drop-offs were recorded as separate trips). So in order to find out if there is infact a significant influence in travel time, let's group \n",
    "the mean travel times by the `passenger_count`:'''"
   ]
  },
  {
   "cell_type": "code",
   "execution_count": 28,
   "metadata": {},
   "outputs": [
    {
     "name": "stderr",
     "output_type": "stream",
     "text": [
      "No handles with labels found to put in legend.\n"
     ]
    },
    {
     "data": {
      "text/plain": [
       "<matplotlib.axes._subplots.AxesSubplot at 0x7fc936af07b8>"
      ]
     },
     "execution_count": 28,
     "metadata": {},
     "output_type": "execute_result"
    },
    {
     "data": {
      "image/png": "[encoded data removed]",
      "text/plain": [
       "<Figure size 1224x720 with 1 Axes>"
      ]
     },
     "metadata": {
      "needs_background": "light"
     },
     "output_type": "display_data"
    }
   ],
   "source": [
    "pc = train.groupby('passenger_count')['trip_duration'].mean()\n",
    "\n",
    "plt.subplots(1,1,figsize=(17,10))\n",
    "plt.ylim(ymin=0)\n",
    "plt.ylim(ymax=1100)\n",
    "plt.title('Time per store_and_fwd_flag')\n",
    "plt.legend(loc=0)\n",
    "plt.ylabel('Time in Seconds')\n",
    "sns.barplot(pc.index,pc.values)"
   ]
  },
  {
   "cell_type": "code",
   "execution_count": 29,
   "metadata": {},
   "outputs": [
    {
     "data": {
      "text/plain": [
       "'\\nSo no significant difference evident that could be explained by the number of passengers in the vehicle for any given trip. It is interesting to note that there is are on average +-4min trips associated with no passengers. This is probably a mistake made in recording the data unless the vendor employee is into charging him/herself for trips whilst on the job.\\n\\nAgain, we need to check whether the test and train data matches with respect to the number of trips containing X-number of passengers:\\n'"
      ]
     },
     "execution_count": 29,
     "metadata": {},
     "output_type": "execute_result"
    }
   ],
   "source": [
    "'''\n",
    "So no significant difference evident that could be explained by the number of passengers in the vehicle for any given trip. It is interesting to note that there is are on average +-4min trips associated with no passengers. This is probably a mistake made in recording the data unless the vendor employee is into charging him/herself for trips whilst on the job.\n",
    "\n",
    "Again, we need to check whether the test and train data matches with respect to the number of trips containing X-number of passengers:\n",
    "'''"
   ]
  },
  {
   "cell_type": "code",
   "execution_count": 30,
   "metadata": {},
   "outputs": [
    {
     "data": {
      "text/plain": [
       "passenger_count\n",
       "0         52\n",
       "1    1018715\n",
       "2     206864\n",
       "3      58989\n",
       "4      27957\n",
       "5      76912\n",
       "6      47639\n",
       "dtype: int64"
      ]
     },
     "execution_count": 30,
     "metadata": {},
     "output_type": "execute_result"
    }
   ],
   "source": [
    "train.groupby('passenger_count').size()"
   ]
  },
  {
   "cell_type": "code",
   "execution_count": 31,
   "metadata": {},
   "outputs": [
    {
     "data": {
      "text/plain": [
       "passenger_count\n",
       "0        23\n",
       "1    443447\n",
       "2     90027\n",
       "3     25686\n",
       "4     12017\n",
       "5     33411\n",
       "6     20521\n",
       "9         2\n",
       "dtype: int64"
      ]
     },
     "execution_count": 31,
     "metadata": {},
     "output_type": "execute_result"
    }
   ],
   "source": [
    "test.groupby('passenger_count').size()\n"
   ]
  },
  {
   "cell_type": "code",
   "execution_count": 32,
   "metadata": {},
   "outputs": [
    {
     "data": {
      "text/plain": [
       "\"\\nAt first glance nothing seems too far out of the ordinary, however we can note that the passenger count is not ordinal. Note the two extra trips with 9 passengers in the test data. Again, it would seem there is some outlier data we haven't dealt with yet. Other than that though, the counts do seem to match relatively between the two data sets. The next step is to dive into the latitude and longitude data provided, trying to visualise the routes taken and potentially creating a map view to get a feel for the spacial components associated with the data.\\n\""
      ]
     },
     "execution_count": 32,
     "metadata": {},
     "output_type": "execute_result"
    }
   ],
   "source": [
    "'''\n",
    "At first glance nothing seems too far out of the ordinary, however we can note that the passenger count is not ordinal. Note the two extra trips with 9 passengers in the test data. Again, it would seem there is some outlier data we haven't dealt with yet. Other than that though, the counts do seem to match relatively between the two data sets. The next step is to dive into the latitude and longitude data provided, trying to visualise the routes taken and potentially creating a map view to get a feel for the spacial components associated with the data.\n",
    "'''"
   ]
  },
  {
   "cell_type": "code",
   "execution_count": 33,
   "metadata": {},
   "outputs": [
    {
     "data": {
      "image/png": "[encoded data removed]",
      "text/plain": [
       "<Figure size 432x288 with 2 Axes>"
      ]
     },
     "metadata": {
      "needs_background": "light"
     },
     "output_type": "display_data"
    }
   ],
   "source": [
    "#3.2 Coordinate Mapping\n",
    "#Just like we compared the travel time data and the number of passengers between the test and train sets, we can try and verify that the pickup location data in\n",
    "#both sets are fairly similar and representative of one another.\n",
    "#3.2.1 Pickup Locations\n",
    "'''\n",
    "To do this, we utilise the city map border coordinates for New York, mentioned earlier in the kernel to create the canvas wherein the coordinate points will be graphed. To display the actual coordinates a simple scatter plot is used:\n",
    "'''\n",
    "city_long_border = (-74.03, -73.75)\n",
    "city_lat_border = (40.63, 40.85)\n",
    "fig, ax = plt.subplots(ncols=2, sharex=True, sharey=True)\n",
    "ax[0].scatter(train['pickup_longitude'].values[:100000], train['pickup_latitude'].values[:100000],\n",
    "              color='blue', s=1, label='train', alpha=0.1)\n",
    "ax[1].scatter(test['pickup_longitude'].values[:100000], test['pickup_latitude'].values[:100000],\n",
    "              color='green', s=1, label='test', alpha=0.1)\n",
    "fig.suptitle('Train and test area complete overlap.')\n",
    "ax[0].legend(loc=0)\n",
    "ax[0].set_ylabel('latitude')\n",
    "ax[0].set_xlabel('longitude')\n",
    "ax[1].set_xlabel('longitude')\n",
    "ax[1].legend(loc=0)\n",
    "plt.ylim(city_lat_border)\n",
    "plt.xlim(city_long_border)\n",
    "plt.show()"
   ]
  },
  {
   "cell_type": "code",
   "execution_count": 52,
   "metadata": {},
   "outputs": [
    {
     "ename": "SyntaxError",
     "evalue": "invalid syntax (<ipython-input-52-f4e3a40604ef>, line 1)",
     "output_type": "error",
     "traceback": [
      "\u001b[0;36m  File \u001b[0;32m\"<ipython-input-52-f4e3a40604ef>\"\u001b[0;36m, line \u001b[0;32m1\u001b[0m\n\u001b[0;31m    We can tell from the two graphs that the pickup locations\u001b[0m\n\u001b[0m         ^\u001b[0m\n\u001b[0;31mSyntaxError\u001b[0m\u001b[0;31m:\u001b[0m invalid syntax\n"
     ]
    }
   ],
   "source": [
    "We can tell from the two graphs that the pickup locations \n",
    "are quite similar, with the notable difference being that the train \n",
    "data set simply has more data points (which makes sense)."
   ]
  },
  {
   "cell_type": "code",
   "execution_count": 34,
   "metadata": {},
   "outputs": [],
   "source": [
    "# Feature Extraction\n",
    "# PCA\n",
    "# We use PCA to transform longitude and latitude coordinates.\n",
    "# In this case it is not about dimension reduction since we \n",
    "# transform 2D-> 2D. The rotation could help for decision \n",
    "# tree splits.\n",
    "coords = np.vstack((train[['pickup_latitude', 'pickup_longitude']].values,\n",
    "                    train[['dropoff_latitude', 'dropoff_longitude']].values,\n",
    "                    test[['pickup_latitude', 'pickup_longitude']].values,\n",
    "                    test[['dropoff_latitude', 'dropoff_longitude']].values))\n",
    "\n",
    "pca = PCA().fit(coords)\n",
    "train['pickup_pca0'] = pca.transform(train[['pickup_latitude', 'pickup_longitude']])[:, 0]\n",
    "train['pickup_pca1'] = pca.transform(train[['pickup_latitude', 'pickup_longitude']])[:, 1]\n",
    "train['dropoff_pca0'] = pca.transform(train[['dropoff_latitude', 'dropoff_longitude']])[:, 0]\n",
    "train['dropoff_pca1'] = pca.transform(train[['dropoff_latitude', 'dropoff_longitude']])[:, 1]\n",
    "test['pickup_pca0'] = pca.transform(test[['pickup_latitude', 'pickup_longitude']])[:, 0]\n",
    "test['pickup_pca1'] = pca.transform(test[['pickup_latitude', 'pickup_longitude']])[:, 1]\n",
    "test['dropoff_pca0'] = pca.transform(test[['dropoff_latitude', 'dropoff_longitude']])[:, 0]\n",
    "test['dropoff_pca1'] = pca.transform(test[['dropoff_latitude', 'dropoff_longitude']])[:, 1]"
   ]
  },
  {
   "cell_type": "code",
   "execution_count": 36,
   "metadata": {},
   "outputs": [
    {
     "data": {
      "image/png": "[encoded data removed]",
      "text/plain": [
       "<Figure size 432x288 with 2 Axes>"
      ]
     },
     "metadata": {
      "needs_background": "light"
     },
     "output_type": "display_data"
    }
   ],
   "source": [
    "fig, ax = plt.subplots(ncols=2)\n",
    "N = 100000\n",
    "ax[0].scatter(train['pickup_longitude'].values[:N], train['pickup_latitude'].values[:N],\n",
    "              color='blue', s=1, alpha=0.1)\n",
    "ax[1].scatter(train['pickup_pca0'].values[:N], train['pickup_pca1'].values[:N],\n",
    "              color='green', s=1, alpha=0.1)\n",
    "fig.suptitle('Pickup lat long coords and PCA transformed coords.')\n",
    "ax[0].set_ylabel('latitude')\n",
    "ax[0].set_xlabel('longitude')\n",
    "ax[1].set_xlabel('pca0')\n",
    "ax[1].set_ylabel('pca1')\n",
    "ax[0].set_xlim(city_long_border)\n",
    "ax[0].set_ylim(city_lat_border)\n",
    "pca_borders = pca.transform([[x, y] for x in city_lat_border for y in city_long_border])\n",
    "ax[1].set_xlim(pca_borders[:, 0].min(), pca_borders[:, 0].max())\n",
    "ax[1].set_ylim(pca_borders[:, 1].min(), pca_borders[:, 1].max())\n",
    "plt.show()\n"
   ]
  },
  {
   "cell_type": "code",
   "execution_count": 37,
   "metadata": {},
   "outputs": [],
   "source": [
    "# 3.2.2 Distance and Directionality\n",
    "#This next part is quite interesting. \n",
    "#Thanks to Beluga's post, we can determine \n",
    "#the distance and direction of a specific \n",
    "#trip based on the pickup and dropoff coordinates. \n",
    "#For this I've made three functions, as:\n",
    "def haversine_array(lat1, lng1, lat2, lng2):\n",
    "    lat1, lng1, lat2, lng2 = map(np.radians, (lat1, lng1, lat2, lng2))\n",
    "    AVG_EARTH_RADIUS = 6371  # in km\n",
    "    lat = lat2 - lat1\n",
    "    lng = lng2 - lng1\n",
    "    d = np.sin(lat * 0.5) ** 2 + np.cos(lat1) * np.cos(lat2) * np.sin(lng * 0.5) ** 2\n",
    "    h = 2 * AVG_EARTH_RADIUS * np.arcsin(np.sqrt(d))\n",
    "    return h\n",
    "\n",
    "def dummy_manhattan_distance(lat1, lng1, lat2, lng2):\n",
    "    a = haversine_array(lat1, lng1, lat1, lng2)\n",
    "    b = haversine_array(lat1, lng1, lat2, lng1)\n",
    "    return a + b\n",
    "\n",
    "def bearing_array(lat1, lng1, lat2, lng2):\n",
    "    AVG_EARTH_RADIUS = 6371  # in km\n",
    "    lng_delta_rad = np.radians(lng2 - lng1)\n",
    "    lat1, lng1, lat2, lng2 = map(np.radians, (lat1, lng1, lat2, lng2))\n",
    "    y = np.sin(lng_delta_rad) * np.cos(lat2)\n",
    "    x = np.cos(lat1) * np.sin(lat2) - np.sin(lat1) * np.cos(lat2) * np.cos(lng_delta_rad)\n",
    "    return np.degrees(np.arctan2(y, x))"
   ]
  },
  {
   "cell_type": "code",
   "execution_count": 38,
   "metadata": {},
   "outputs": [
    {
     "data": {
      "text/plain": [
       "'\\nApplying these functions to both the test and train data, we can \\ncalculate the haversine distance which is the great-circle distance\\nbetween two points on a sphere given their longitudes and latitudes\\n. We can then calculate the summed distance traveled in Manhattan. \\nAnd finally we calculate (through some handy trigonometry) the \\ndirection (or bearing) of the distance traveled. These calculations \\nare stored as variables in the separate data sets. The next step \\nI decided to take is to create neighourhods, \\nlike Soho, or the Upper East Side, from the data and display this.\\n'"
      ]
     },
     "execution_count": 38,
     "metadata": {},
     "output_type": "execute_result"
    }
   ],
   "source": [
    "'''\n",
    "Applying these functions to both the test and train data, we can \n",
    "calculate the haversine distance which is the great-circle distance\n",
    "between two points on a sphere given their longitudes and latitudes\n",
    ". We can then calculate the summed distance traveled in Manhattan. \n",
    "And finally we calculate (through some handy trigonometry) the \n",
    "direction (or bearing) of the distance traveled. These calculations \n",
    "are stored as variables in the separate data sets. The next step \n",
    "I decided to take is to create neighourhods, \n",
    "like Soho, or the Upper East Side, from the data and display this.\n",
    "'''"
   ]
  },
  {
   "cell_type": "code",
   "execution_count": 39,
   "metadata": {},
   "outputs": [],
   "source": [
    "train.loc[:, 'distance_haversine'] = haversine_array(train['pickup_latitude'].values, train['pickup_longitude'].values, train['dropoff_latitude'].values, train['dropoff_longitude'].values)\n",
    "test.loc[:, 'distance_haversine'] = haversine_array(test['pickup_latitude'].values, test['pickup_longitude'].values, test['dropoff_latitude'].values, test['dropoff_longitude'].values)    \n",
    "    \n",
    "train.loc[:, 'distance_dummy_manhattan'] =  dummy_manhattan_distance(train['pickup_latitude'].values, train['pickup_longitude'].values, train['dropoff_latitude'].values, train['dropoff_longitude'].values)\n",
    "test.loc[:, 'distance_dummy_manhattan'] =  dummy_manhattan_distance(test['pickup_latitude'].values, test['pickup_longitude'].values, test['dropoff_latitude'].values, test['dropoff_longitude'].values)\n",
    "\n",
    "train.loc[:, 'direction'] = bearing_array(train['pickup_latitude'].values, train['pickup_longitude'].values, train['dropoff_latitude'].values, train['dropoff_longitude'].values)\n",
    "test.loc[:, 'direction'] = bearing_array(test['pickup_latitude'].values, test['pickup_longitude'].values, test['dropoff_latitude'].values, test['dropoff_longitude'].values)"
   ]
  },
  {
   "cell_type": "code",
   "execution_count": 40,
   "metadata": {},
   "outputs": [],
   "source": [
    "#3.3.3 Lets create the \"Neighborhoods\"\n",
    "coords = np.vstack((train[['pickup_latitude', 'pickup_longitude']].values,\n",
    "                    train[['dropoff_latitude', 'dropoff_longitude']].values))"
   ]
  },
  {
   "cell_type": "code",
   "execution_count": 41,
   "metadata": {},
   "outputs": [],
   "source": [
    "sample_ind = np.random.permutation(len(coords))[:500000]\n",
    "kmeans = MiniBatchKMeans(n_clusters=100, batch_size=10000).fit(coords[sample_ind])"
   ]
  },
  {
   "cell_type": "code",
   "execution_count": 42,
   "metadata": {},
   "outputs": [],
   "source": [
    "train.loc[:, 'pickup_cluster'] = kmeans.predict(train[['pickup_latitude', 'pickup_longitude']])\n",
    "train.loc[:, 'dropoff_cluster'] = kmeans.predict(train[['dropoff_latitude', 'dropoff_longitude']])\n",
    "test.loc[:, 'pickup_cluster'] = kmeans.predict(test[['pickup_latitude', 'pickup_longitude']])\n",
    "test.loc[:, 'dropoff_cluster'] = kmeans.predict(test[['dropoff_latitude', 'dropoff_longitude']])"
   ]
  },
  {
   "cell_type": "code",
   "execution_count": 43,
   "metadata": {},
   "outputs": [
    {
     "data": {
      "image/png": "[encoded data removed]",
      "text/plain": [
       "<Figure size 432x288 with 1 Axes>"
      ]
     },
     "metadata": {
      "needs_background": "light"
     },
     "output_type": "display_data"
    }
   ],
   "source": [
    "fig, ax = plt.subplots(ncols=1, nrows=1)\n",
    "ax.scatter(train.pickup_longitude.values[:500000], train.pickup_latitude.values[:500000], s=10, lw=0,\n",
    "           c=train.pickup_cluster[:500000].values, cmap='autumn', alpha=0.2)\n",
    "ax.set_xlim(city_long_border)\n",
    "ax.set_ylim(city_lat_border)\n",
    "ax.set_xlabel('Longitude')\n",
    "ax.set_ylabel('Latitude')\n",
    "plt.show()"
   ]
  },
  {
   "cell_type": "code",
   "execution_count": 44,
   "metadata": {},
   "outputs": [],
   "source": [
    "#3.4 Date Extraction\n",
    "#Extracting Month\n",
    "train['Month'] = train['pickup_datetime'].dt.month\n",
    "test['Month'] = test['pickup_datetime'].dt.month"
   ]
  },
  {
   "cell_type": "code",
   "execution_count": 45,
   "metadata": {},
   "outputs": [
    {
     "data": {
      "text/plain": [
       "(Month\n",
       " 1    226444\n",
       " 2    235054\n",
       " 3    252443\n",
       " 4    247855\n",
       " 5    244591\n",
       " 6    230741\n",
       " dtype: int64, Month\n",
       " 1     97676\n",
       " 2    102314\n",
       " 3    109697\n",
       " 4    107432\n",
       " 5    107570\n",
       " 6    100445\n",
       " dtype: int64)"
      ]
     },
     "execution_count": 45,
     "metadata": {},
     "output_type": "execute_result"
    }
   ],
   "source": [
    "train.groupby('Month').size(),test.groupby('Month').size()\n"
   ]
  },
  {
   "cell_type": "code",
   "execution_count": 46,
   "metadata": {},
   "outputs": [
    {
     "data": {
      "text/plain": [
       "(31, 31)"
      ]
     },
     "execution_count": 46,
     "metadata": {},
     "output_type": "execute_result"
    }
   ],
   "source": [
    "train['DayofMonth'] = train['pickup_datetime'].dt.day\n",
    "test['DayofMonth'] = test['pickup_datetime'].dt.day\n",
    "len(train.groupby('DayofMonth').size()),len(test.groupby('DayofMonth').size())"
   ]
  },
  {
   "cell_type": "code",
   "execution_count": 47,
   "metadata": {},
   "outputs": [
    {
     "data": {
      "text/plain": [
       "(24, 24)"
      ]
     },
     "execution_count": 47,
     "metadata": {},
     "output_type": "execute_result"
    }
   ],
   "source": [
    "train['Hour'] = train['pickup_datetime'].dt.hour\n",
    "test['Hour'] = test['pickup_datetime'].dt.hour\n",
    "len(train.groupby('Hour').size()),len(test.groupby('Hour').size())"
   ]
  },
  {
   "cell_type": "code",
   "execution_count": 48,
   "metadata": {},
   "outputs": [
    {
     "data": {
      "text/plain": [
       "(7, 7)"
      ]
     },
     "execution_count": 48,
     "metadata": {},
     "output_type": "execute_result"
    }
   ],
   "source": [
    "train['dayofweek'] = train['pickup_datetime'].dt.dayofweek\n",
    "test['dayofweek'] = test['pickup_datetime'].dt.dayofweek\n",
    "len(train.groupby('dayofweek').size()),len(test.groupby('dayofweek').size())\n"
   ]
  },
  {
   "cell_type": "code",
   "execution_count": 49,
   "metadata": {},
   "outputs": [
    {
     "data": {
      "image/png": "[encoded data removed]",
      "text/plain": [
       "<Figure size 432x288 with 3 Axes>"
      ]
     },
     "metadata": {
      "needs_background": "light"
     },
     "output_type": "display_data"
    }
   ],
   "source": [
    "train.loc[:, 'avg_speed_h'] = 1000 * train['distance_haversine'] / train['trip_duration']\n",
    "train.loc[:, 'avg_speed_m'] = 1000 * train['distance_dummy_manhattan'] / train['trip_duration']\n",
    "fig, ax = plt.subplots(ncols=3, sharey=True)\n",
    "ax[0].plot(train.groupby('Hour').mean()['avg_speed_h'], 'bo-', lw=2, alpha=0.7)\n",
    "ax[1].plot(train.groupby('dayofweek').mean()['avg_speed_h'], 'go-', lw=2, alpha=0.7)\n",
    "ax[2].plot(train.groupby('Month').mean()['avg_speed_h'], 'ro-', lw=2, alpha=0.7)\n",
    "ax[0].set_xlabel('Hour of Day')\n",
    "ax[1].set_xlabel('Day of Week')\n",
    "ax[2].set_xlabel('Month of Year')\n",
    "ax[0].set_ylabel('Average Speed')\n",
    "fig.suptitle('Average Traffic Speed by Date-part')\n",
    "plt.show()"
   ]
  },
  {
   "cell_type": "code",
   "execution_count": 50,
   "metadata": {},
   "outputs": [
    {
     "data": {
      "text/plain": [
       "\"\\nSo the interesting thing to notice here is the average speed by hour of day. We're I'm from traffic usually peaks between 5am and 9am, and then again from about 4pm to around 6 or 7pm. But it would seem in manhattan that average speed diminishes as the day goes by from around 6am and picks up again around 7 or 8pm. So most of the travelling in the Big Apple happens during work hours. The average speed by weekday follows an expected trend. Over the weekend (Friday, Saturday, Sunday) the average speed picks up quite nicely, indicating less traffic. Finally, the average trip speed by month follows an expected trend. In the winter months there are less trips (see the previous timeseries plot we made) indicating less traffic in general in the city which means you can average a higher speed on the roads.\\n\""
      ]
     },
     "execution_count": 50,
     "metadata": {},
     "output_type": "execute_result"
    }
   ],
   "source": [
    "'''\n",
    "So the interesting thing to notice here is the average speed by hour of day. We're I'm from traffic usually peaks between 5am and 9am, and then again from about 4pm to around 6 or 7pm. But it would seem in manhattan that average speed diminishes as the day goes by from around 6am and picks up again around 7 or 8pm. So most of the travelling in the Big Apple happens during work hours. The average speed by weekday follows an expected trend. Over the weekend (Friday, Saturday, Sunday) the average speed picks up quite nicely, indicating less traffic. Finally, the average trip speed by month follows an expected trend. In the winter months there are less trips (see the previous timeseries plot we made) indicating less traffic in general in the city which means you can average a higher speed on the roads.\n",
    "'''"
   ]
  },
  {
   "cell_type": "code",
   "execution_count": 51,
   "metadata": {},
   "outputs": [
    {
     "data": {
      "text/html": [
       "<div>\n",
       "<style scoped>\n",
       "    .dataframe tbody tr th:only-of-type {\n",
       "        vertical-align: middle;\n",
       "    }\n",
       "\n",
       "    .dataframe tbody tr th {\n",
       "        vertical-align: top;\n",
       "    }\n",
       "\n",
       "    .dataframe thead th {\n",
       "        text-align: right;\n",
       "    }\n",
       "</style>\n",
       "<table border=\"1\" class=\"dataframe\">\n",
       "  <thead>\n",
       "    <tr style=\"text-align: right;\">\n",
       "      <th></th>\n",
       "      <th>id</th>\n",
       "      <th>vendor_id</th>\n",
       "      <th>pickup_datetime</th>\n",
       "      <th>dropoff_datetime</th>\n",
       "      <th>passenger_count</th>\n",
       "      <th>pickup_longitude</th>\n",
       "      <th>pickup_latitude</th>\n",
       "      <th>dropoff_longitude</th>\n",
       "      <th>dropoff_latitude</th>\n",
       "      <th>store_and_fwd_flag</th>\n",
       "      <th>...</th>\n",
       "      <th>distance_dummy_manhattan</th>\n",
       "      <th>direction</th>\n",
       "      <th>pickup_cluster</th>\n",
       "      <th>dropoff_cluster</th>\n",
       "      <th>Month</th>\n",
       "      <th>DayofMonth</th>\n",
       "      <th>Hour</th>\n",
       "      <th>dayofweek</th>\n",
       "      <th>avg_speed_h</th>\n",
       "      <th>avg_speed_m</th>\n",
       "    </tr>\n",
       "  </thead>\n",
       "  <tbody>\n",
       "    <tr>\n",
       "      <th>0</th>\n",
       "      <td>id2875421</td>\n",
       "      <td>2</td>\n",
       "      <td>2016-03-14 17:24:55</td>\n",
       "      <td>2016-03-14 17:32:30</td>\n",
       "      <td>1</td>\n",
       "      <td>-73.982</td>\n",
       "      <td>40.768</td>\n",
       "      <td>-73.965</td>\n",
       "      <td>40.766</td>\n",
       "      <td>N</td>\n",
       "      <td>...</td>\n",
       "      <td>1.735</td>\n",
       "      <td>99.970</td>\n",
       "      <td>38</td>\n",
       "      <td>44</td>\n",
       "      <td>3</td>\n",
       "      <td>14</td>\n",
       "      <td>17</td>\n",
       "      <td>0</td>\n",
       "      <td>3.293</td>\n",
       "      <td>3.814</td>\n",
       "    </tr>\n",
       "    <tr>\n",
       "      <th>1</th>\n",
       "      <td>id2377394</td>\n",
       "      <td>1</td>\n",
       "      <td>2016-06-12 00:43:35</td>\n",
       "      <td>2016-06-12 00:54:38</td>\n",
       "      <td>1</td>\n",
       "      <td>-73.980</td>\n",
       "      <td>40.739</td>\n",
       "      <td>-73.999</td>\n",
       "      <td>40.731</td>\n",
       "      <td>N</td>\n",
       "      <td>...</td>\n",
       "      <td>2.431</td>\n",
       "      <td>-117.154</td>\n",
       "      <td>72</td>\n",
       "      <td>48</td>\n",
       "      <td>6</td>\n",
       "      <td>12</td>\n",
       "      <td>0</td>\n",
       "      <td>6</td>\n",
       "      <td>2.723</td>\n",
       "      <td>3.666</td>\n",
       "    </tr>\n",
       "    <tr>\n",
       "      <th>2</th>\n",
       "      <td>id3858529</td>\n",
       "      <td>2</td>\n",
       "      <td>2016-01-19 11:35:24</td>\n",
       "      <td>2016-01-19 12:10:48</td>\n",
       "      <td>1</td>\n",
       "      <td>-73.979</td>\n",
       "      <td>40.764</td>\n",
       "      <td>-74.005</td>\n",
       "      <td>40.710</td>\n",
       "      <td>N</td>\n",
       "      <td>...</td>\n",
       "      <td>8.204</td>\n",
       "      <td>-159.680</td>\n",
       "      <td>97</td>\n",
       "      <td>16</td>\n",
       "      <td>1</td>\n",
       "      <td>19</td>\n",
       "      <td>11</td>\n",
       "      <td>1</td>\n",
       "      <td>3.006</td>\n",
       "      <td>3.862</td>\n",
       "    </tr>\n",
       "    <tr>\n",
       "      <th>3</th>\n",
       "      <td>id3504673</td>\n",
       "      <td>2</td>\n",
       "      <td>2016-04-06 19:32:31</td>\n",
       "      <td>2016-04-06 19:39:40</td>\n",
       "      <td>1</td>\n",
       "      <td>-74.010</td>\n",
       "      <td>40.720</td>\n",
       "      <td>-74.012</td>\n",
       "      <td>40.707</td>\n",
       "      <td>N</td>\n",
       "      <td>...</td>\n",
       "      <td>1.661</td>\n",
       "      <td>-172.738</td>\n",
       "      <td>95</td>\n",
       "      <td>98</td>\n",
       "      <td>4</td>\n",
       "      <td>6</td>\n",
       "      <td>19</td>\n",
       "      <td>2</td>\n",
       "      <td>3.463</td>\n",
       "      <td>3.873</td>\n",
       "    </tr>\n",
       "    <tr>\n",
       "      <th>4</th>\n",
       "      <td>id2181028</td>\n",
       "      <td>2</td>\n",
       "      <td>2016-03-26 13:30:55</td>\n",
       "      <td>2016-03-26 13:38:10</td>\n",
       "      <td>1</td>\n",
       "      <td>-73.973</td>\n",
       "      <td>40.793</td>\n",
       "      <td>-73.973</td>\n",
       "      <td>40.783</td>\n",
       "      <td>N</td>\n",
       "      <td>...</td>\n",
       "      <td>1.199</td>\n",
       "      <td>179.474</td>\n",
       "      <td>45</td>\n",
       "      <td>23</td>\n",
       "      <td>3</td>\n",
       "      <td>26</td>\n",
       "      <td>13</td>\n",
       "      <td>5</td>\n",
       "      <td>2.732</td>\n",
       "      <td>2.757</td>\n",
       "    </tr>\n",
       "  </tbody>\n",
       "</table>\n",
       "<p>5 rows × 28 columns</p>\n",
       "</div>"
      ],
      "text/plain": [
       "          id  vendor_id     pickup_datetime    dropoff_datetime  \\\n",
       "0  id2875421          2 2016-03-14 17:24:55 2016-03-14 17:32:30   \n",
       "1  id2377394          1 2016-06-12 00:43:35 2016-06-12 00:54:38   \n",
       "2  id3858529          2 2016-01-19 11:35:24 2016-01-19 12:10:48   \n",
       "3  id3504673          2 2016-04-06 19:32:31 2016-04-06 19:39:40   \n",
       "4  id2181028          2 2016-03-26 13:30:55 2016-03-26 13:38:10   \n",
       "\n",
       "   passenger_count  pickup_longitude  pickup_latitude  dropoff_longitude  \\\n",
       "0                1           -73.982           40.768            -73.965   \n",
       "1                1           -73.980           40.739            -73.999   \n",
       "2                1           -73.979           40.764            -74.005   \n",
       "3                1           -74.010           40.720            -74.012   \n",
       "4                1           -73.973           40.793            -73.973   \n",
       "\n",
       "   dropoff_latitude store_and_fwd_flag     ...       distance_dummy_manhattan  \\\n",
       "0            40.766                  N     ...                          1.735   \n",
       "1            40.731                  N     ...                          2.431   \n",
       "2            40.710                  N     ...                          8.204   \n",
       "3            40.707                  N     ...                          1.661   \n",
       "4            40.783                  N     ...                          1.199   \n",
       "\n",
       "  direction  pickup_cluster  dropoff_cluster  Month  DayofMonth  Hour  \\\n",
       "0    99.970              38               44      3          14    17   \n",
       "1  -117.154              72               48      6          12     0   \n",
       "2  -159.680              97               16      1          19    11   \n",
       "3  -172.738              95               98      4           6    19   \n",
       "4   179.474              45               23      3          26    13   \n",
       "\n",
       "   dayofweek  avg_speed_h  avg_speed_m  \n",
       "0          0        3.293        3.814  \n",
       "1          6        2.723        3.666  \n",
       "2          1        3.006        3.862  \n",
       "3          2        3.463        3.873  \n",
       "4          5        2.732        2.757  \n",
       "\n",
       "[5 rows x 28 columns]"
      ]
     },
     "execution_count": 51,
     "metadata": {},
     "output_type": "execute_result"
    }
   ],
   "source": [
    "train.head()"
   ]
  },
  {
   "cell_type": "code",
   "execution_count": 52,
   "metadata": {},
   "outputs": [
    {
     "data": {
      "text/html": [
       "<div>\n",
       "<style scoped>\n",
       "    .dataframe tbody tr th:only-of-type {\n",
       "        vertical-align: middle;\n",
       "    }\n",
       "\n",
       "    .dataframe tbody tr th {\n",
       "        vertical-align: top;\n",
       "    }\n",
       "\n",
       "    .dataframe thead th {\n",
       "        text-align: right;\n",
       "    }\n",
       "</style>\n",
       "<table border=\"1\" class=\"dataframe\">\n",
       "  <thead>\n",
       "    <tr style=\"text-align: right;\">\n",
       "      <th></th>\n",
       "      <th>vendor_id</th>\n",
       "      <th>passenger_count</th>\n",
       "      <th>pickup_longitude</th>\n",
       "      <th>pickup_latitude</th>\n",
       "      <th>dropoff_longitude</th>\n",
       "      <th>dropoff_latitude</th>\n",
       "      <th>trip_duration</th>\n",
       "      <th>log_trip_duration</th>\n",
       "      <th>pickup_pca0</th>\n",
       "      <th>pickup_pca1</th>\n",
       "      <th>...</th>\n",
       "      <th>distance_haversine</th>\n",
       "      <th>distance_dummy_manhattan</th>\n",
       "      <th>direction</th>\n",
       "      <th>pickup_cluster</th>\n",
       "      <th>dropoff_cluster</th>\n",
       "      <th>Month</th>\n",
       "      <th>DayofMonth</th>\n",
       "      <th>Hour</th>\n",
       "      <th>avg_speed_h</th>\n",
       "      <th>avg_speed_m</th>\n",
       "    </tr>\n",
       "    <tr>\n",
       "      <th>dayofweek</th>\n",
       "      <th></th>\n",
       "      <th></th>\n",
       "      <th></th>\n",
       "      <th></th>\n",
       "      <th></th>\n",
       "      <th></th>\n",
       "      <th></th>\n",
       "      <th></th>\n",
       "      <th></th>\n",
       "      <th></th>\n",
       "      <th></th>\n",
       "      <th></th>\n",
       "      <th></th>\n",
       "      <th></th>\n",
       "      <th></th>\n",
       "      <th></th>\n",
       "      <th></th>\n",
       "      <th></th>\n",
       "      <th></th>\n",
       "      <th></th>\n",
       "      <th></th>\n",
       "    </tr>\n",
       "  </thead>\n",
       "  <tbody>\n",
       "    <tr>\n",
       "      <th>0</th>\n",
       "      <td>1.534</td>\n",
       "      <td>1.633</td>\n",
       "      <td>-73.971</td>\n",
       "      <td>40.752</td>\n",
       "      <td>-73.973</td>\n",
       "      <td>40.752</td>\n",
       "      <td>798.020</td>\n",
       "      <td>6.411</td>\n",
       "      <td>-0.003</td>\n",
       "      <td>0.000</td>\n",
       "      <td>...</td>\n",
       "      <td>3.420</td>\n",
       "      <td>4.432</td>\n",
       "      <td>-17.113</td>\n",
       "      <td>47.489</td>\n",
       "      <td>48.653</td>\n",
       "      <td>3.514</td>\n",
       "      <td>15.443</td>\n",
       "      <td>13.980</td>\n",
       "      <td>4.137</td>\n",
       "      <td>5.354</td>\n",
       "    </tr>\n",
       "    <tr>\n",
       "      <th>1</th>\n",
       "      <td>1.536</td>\n",
       "      <td>1.635</td>\n",
       "      <td>-73.973</td>\n",
       "      <td>40.752</td>\n",
       "      <td>-73.974</td>\n",
       "      <td>40.753</td>\n",
       "      <td>843.276</td>\n",
       "      <td>6.476</td>\n",
       "      <td>-0.001</td>\n",
       "      <td>0.001</td>\n",
       "      <td>...</td>\n",
       "      <td>3.204</td>\n",
       "      <td>4.140</td>\n",
       "      <td>-17.006</td>\n",
       "      <td>48.085</td>\n",
       "      <td>49.065</td>\n",
       "      <td>3.552</td>\n",
       "      <td>15.392</td>\n",
       "      <td>14.103</td>\n",
       "      <td>3.761</td>\n",
       "      <td>4.863</td>\n",
       "    </tr>\n",
       "    <tr>\n",
       "      <th>2</th>\n",
       "      <td>1.533</td>\n",
       "      <td>1.633</td>\n",
       "      <td>-73.974</td>\n",
       "      <td>40.752</td>\n",
       "      <td>-73.974</td>\n",
       "      <td>40.753</td>\n",
       "      <td>867.643</td>\n",
       "      <td>6.499</td>\n",
       "      <td>0.000</td>\n",
       "      <td>0.001</td>\n",
       "      <td>...</td>\n",
       "      <td>3.202</td>\n",
       "      <td>4.141</td>\n",
       "      <td>-16.441</td>\n",
       "      <td>48.240</td>\n",
       "      <td>48.881</td>\n",
       "      <td>3.577</td>\n",
       "      <td>15.262</td>\n",
       "      <td>14.060</td>\n",
       "      <td>3.693</td>\n",
       "      <td>4.777</td>\n",
       "    </tr>\n",
       "    <tr>\n",
       "      <th>3</th>\n",
       "      <td>1.533</td>\n",
       "      <td>1.639</td>\n",
       "      <td>-73.974</td>\n",
       "      <td>40.752</td>\n",
       "      <td>-73.973</td>\n",
       "      <td>40.752</td>\n",
       "      <td>883.966</td>\n",
       "      <td>6.512</td>\n",
       "      <td>0.000</td>\n",
       "      <td>0.000</td>\n",
       "      <td>...</td>\n",
       "      <td>3.269</td>\n",
       "      <td>4.227</td>\n",
       "      <td>-16.041</td>\n",
       "      <td>48.321</td>\n",
       "      <td>48.809</td>\n",
       "      <td>3.574</td>\n",
       "      <td>16.201</td>\n",
       "      <td>14.077</td>\n",
       "      <td>3.679</td>\n",
       "      <td>4.757</td>\n",
       "    </tr>\n",
       "    <tr>\n",
       "      <th>4</th>\n",
       "      <td>1.532</td>\n",
       "      <td>1.662</td>\n",
       "      <td>-73.974</td>\n",
       "      <td>40.751</td>\n",
       "      <td>-73.973</td>\n",
       "      <td>40.752</td>\n",
       "      <td>853.675</td>\n",
       "      <td>6.482</td>\n",
       "      <td>0.001</td>\n",
       "      <td>-0.000</td>\n",
       "      <td>...</td>\n",
       "      <td>3.254</td>\n",
       "      <td>4.210</td>\n",
       "      <td>-15.568</td>\n",
       "      <td>48.351</td>\n",
       "      <td>48.839</td>\n",
       "      <td>3.414</td>\n",
       "      <td>15.001</td>\n",
       "      <td>13.665</td>\n",
       "      <td>3.764</td>\n",
       "      <td>4.870</td>\n",
       "    </tr>\n",
       "    <tr>\n",
       "      <th>5</th>\n",
       "      <td>1.534</td>\n",
       "      <td>1.729</td>\n",
       "      <td>-73.977</td>\n",
       "      <td>40.749</td>\n",
       "      <td>-73.975</td>\n",
       "      <td>40.750</td>\n",
       "      <td>766.708</td>\n",
       "      <td>6.400</td>\n",
       "      <td>0.003</td>\n",
       "      <td>-0.002</td>\n",
       "      <td>...</td>\n",
       "      <td>3.188</td>\n",
       "      <td>4.123</td>\n",
       "      <td>-14.533</td>\n",
       "      <td>49.074</td>\n",
       "      <td>49.268</td>\n",
       "      <td>3.486</td>\n",
       "      <td>15.679</td>\n",
       "      <td>13.169</td>\n",
       "      <td>4.114</td>\n",
       "      <td>5.323</td>\n",
       "    </tr>\n",
       "    <tr>\n",
       "      <th>6</th>\n",
       "      <td>1.538</td>\n",
       "      <td>1.717</td>\n",
       "      <td>-73.974</td>\n",
       "      <td>40.749</td>\n",
       "      <td>-73.972</td>\n",
       "      <td>40.750</td>\n",
       "      <td>748.615</td>\n",
       "      <td>6.356</td>\n",
       "      <td>0.000</td>\n",
       "      <td>-0.002</td>\n",
       "      <td>...</td>\n",
       "      <td>3.555</td>\n",
       "      <td>4.598</td>\n",
       "      <td>-13.036</td>\n",
       "      <td>48.039</td>\n",
       "      <td>48.633</td>\n",
       "      <td>3.500</td>\n",
       "      <td>15.525</td>\n",
       "      <td>12.212</td>\n",
       "      <td>4.579</td>\n",
       "      <td>5.920</td>\n",
       "    </tr>\n",
       "  </tbody>\n",
       "</table>\n",
       "<p>7 rows × 22 columns</p>\n",
       "</div>"
      ],
      "text/plain": [
       "           vendor_id  passenger_count  pickup_longitude  pickup_latitude  \\\n",
       "dayofweek                                                                  \n",
       "0              1.534            1.633           -73.971           40.752   \n",
       "1              1.536            1.635           -73.973           40.752   \n",
       "2              1.533            1.633           -73.974           40.752   \n",
       "3              1.533            1.639           -73.974           40.752   \n",
       "4              1.532            1.662           -73.974           40.751   \n",
       "5              1.534            1.729           -73.977           40.749   \n",
       "6              1.538            1.717           -73.974           40.749   \n",
       "\n",
       "           dropoff_longitude  dropoff_latitude  trip_duration  \\\n",
       "dayofweek                                                       \n",
       "0                    -73.973            40.752        798.020   \n",
       "1                    -73.974            40.753        843.276   \n",
       "2                    -73.974            40.753        867.643   \n",
       "3                    -73.973            40.752        883.966   \n",
       "4                    -73.973            40.752        853.675   \n",
       "5                    -73.975            40.750        766.708   \n",
       "6                    -73.972            40.750        748.615   \n",
       "\n",
       "           log_trip_duration  pickup_pca0  pickup_pca1     ...       \\\n",
       "dayofweek                                                  ...        \n",
       "0                      6.411       -0.003        0.000     ...        \n",
       "1                      6.476       -0.001        0.001     ...        \n",
       "2                      6.499        0.000        0.001     ...        \n",
       "3                      6.512        0.000        0.000     ...        \n",
       "4                      6.482        0.001       -0.000     ...        \n",
       "5                      6.400        0.003       -0.002     ...        \n",
       "6                      6.356        0.000       -0.002     ...        \n",
       "\n",
       "           distance_haversine  distance_dummy_manhattan  direction  \\\n",
       "dayofweek                                                            \n",
       "0                       3.420                     4.432    -17.113   \n",
       "1                       3.204                     4.140    -17.006   \n",
       "2                       3.202                     4.141    -16.441   \n",
       "3                       3.269                     4.227    -16.041   \n",
       "4                       3.254                     4.210    -15.568   \n",
       "5                       3.188                     4.123    -14.533   \n",
       "6                       3.555                     4.598    -13.036   \n",
       "\n",
       "           pickup_cluster  dropoff_cluster  Month  DayofMonth   Hour  \\\n",
       "dayofweek                                                              \n",
       "0                  47.489           48.653  3.514      15.443 13.980   \n",
       "1                  48.085           49.065  3.552      15.392 14.103   \n",
       "2                  48.240           48.881  3.577      15.262 14.060   \n",
       "3                  48.321           48.809  3.574      16.201 14.077   \n",
       "4                  48.351           48.839  3.414      15.001 13.665   \n",
       "5                  49.074           49.268  3.486      15.679 13.169   \n",
       "6                  48.039           48.633  3.500      15.525 12.212   \n",
       "\n",
       "           avg_speed_h  avg_speed_m  \n",
       "dayofweek                            \n",
       "0                4.137        5.354  \n",
       "1                3.761        4.863  \n",
       "2                3.693        4.777  \n",
       "3                3.679        4.757  \n",
       "4                3.764        4.870  \n",
       "5                4.114        5.323  \n",
       "6                4.579        5.920  \n",
       "\n",
       "[7 rows x 22 columns]"
      ]
     },
     "execution_count": 52,
     "metadata": {},
     "output_type": "execute_result"
    }
   ],
   "source": [
    "train.groupby('dayofweek').mean()"
   ]
  },
  {
   "cell_type": "code",
   "execution_count": 53,
   "metadata": {},
   "outputs": [
    {
     "data": {
      "image/png": "[encoded data removed]",
      "text/plain": [
       "<Figure size 432x288 with 1 Axes>"
      ]
     },
     "metadata": {
      "needs_background": "light"
     },
     "output_type": "display_data"
    }
   ],
   "source": [
    "train.loc[:, 'pickup_lat_bin'] = np.round(train['pickup_latitude'], 3)\n",
    "train.loc[:, 'pickup_long_bin'] = np.round(train['pickup_longitude'], 3)\n",
    "# Average speed for regions\n",
    "gby_cols = ['pickup_lat_bin', 'pickup_long_bin']\n",
    "coord_speed = train.groupby(gby_cols).mean()[['avg_speed_h']].reset_index()\n",
    "coord_count = train.groupby(gby_cols).count()[['id']].reset_index()\n",
    "coord_stats = pd.merge(coord_speed, coord_count, on=gby_cols)\n",
    "coord_stats = coord_stats[coord_stats['id'] > 100]\n",
    "fig, ax = plt.subplots(ncols=1, nrows=1)\n",
    "ax.scatter(train.pickup_longitude.values[:500000], train.pickup_latitude.values[:500000], color='black', s=1, alpha=0.5)\n",
    "ax.scatter(coord_stats.pickup_long_bin.values, coord_stats.pickup_lat_bin.values, c=coord_stats.avg_speed_h.values,\n",
    "           cmap='RdYlGn', s=20, alpha=0.5, vmin=1, vmax=8)\n",
    "ax.set_xlim(city_long_border)\n",
    "ax.set_ylim(city_lat_border)\n",
    "ax.set_xlabel('Longitude')\n",
    "ax.set_ylabel('Latitude')\n",
    "plt.title('Average speed')\n",
    "plt.show()"
   ]
  },
  {
   "cell_type": "code",
   "execution_count": 54,
   "metadata": {},
   "outputs": [],
   "source": [
    "#4. Data Enrichment & Dummy Variables\n",
    "#4.1 Data Enrichment\n",
    "# For this particular problem we can add OSRM ([Open Source Routing Machine]\n",
    "# (http://project-osrm.org/ \"OSRM\")) features. Ultimately this is a data set containing \n",
    "# the fastest routes from specific starting points in NY.\"\n",
    "\n",
    "fr1 = pd.read_csv('data/osrm/fastest_routes_train_part_1.csv', usecols=['id', 'total_distance', 'total_travel_time',  'number_of_steps'])\n",
    "fr2 = pd.read_csv('data/osrm/fastest_routes_train_part_2.csv', usecols=['id', 'total_distance', 'total_travel_time', 'number_of_steps'])\n",
    "test_street_info = pd.read_csv('data/osrm/fastest_routes_test.csv',\n",
    "                               usecols=['id', 'total_distance', 'total_travel_time', 'number_of_steps'])\n",
    "train_street_info = pd.concat((fr1, fr2))\n",
    "train = train.merge(train_street_info, how='left', on='id')\n",
    "test = test.merge(test_street_info, how='left', on='id')"
   ]
  },
  {
   "cell_type": "code",
   "execution_count": 55,
   "metadata": {},
   "outputs": [],
   "source": [
    "#4.2 Creating Dummy Variables\n",
    "vendor_train = pd.get_dummies(train['vendor_id'], prefix='vi', prefix_sep='_')\n",
    "vendor_test = pd.get_dummies(test['vendor_id'], prefix='vi', prefix_sep='_')\n",
    "passenger_count_train = pd.get_dummies(train['passenger_count'], prefix='pc', prefix_sep='_')\n",
    "passenger_count_test = pd.get_dummies(test['passenger_count'], prefix='pc', prefix_sep='_')\n",
    "store_and_fwd_flag_train = pd.get_dummies(train['store_and_fwd_flag'], prefix='sf', prefix_sep='_')\n",
    "store_and_fwd_flag_test = pd.get_dummies(test['store_and_fwd_flag'], prefix='sf', prefix_sep='_')\n",
    "cluster_pickup_train = pd.get_dummies(train['pickup_cluster'], prefix='p', prefix_sep='_')\n",
    "cluster_pickup_test = pd.get_dummies(test['pickup_cluster'], prefix='p', prefix_sep='_')\n",
    "cluster_dropoff_train = pd.get_dummies(train['dropoff_cluster'], prefix='d', prefix_sep='_')\n",
    "cluster_dropoff_test = pd.get_dummies(test['dropoff_cluster'], prefix='d', prefix_sep='_')\n",
    "\n",
    "month_train = pd.get_dummies(train['Month'], prefix='m', prefix_sep='_')\n",
    "month_test = pd.get_dummies(test['Month'], prefix='m', prefix_sep='_')\n",
    "dom_train = pd.get_dummies(train['DayofMonth'], prefix='dom', prefix_sep='_')\n",
    "dom_test = pd.get_dummies(test['DayofMonth'], prefix='dom', prefix_sep='_')\n",
    "hour_train = pd.get_dummies(train['Hour'], prefix='h', prefix_sep='_')\n",
    "hour_test = pd.get_dummies(test['Hour'], prefix='h', prefix_sep='_')\n",
    "dow_train = pd.get_dummies(train['dayofweek'], prefix='dow', prefix_sep='_')\n",
    "dow_test = pd.get_dummies(test['dayofweek'], prefix='dow', prefix_sep='_')"
   ]
  },
  {
   "cell_type": "code",
   "execution_count": 56,
   "metadata": {},
   "outputs": [
    {
     "data": {
      "text/html": [
       "<div>\n",
       "<style scoped>\n",
       "    .dataframe tbody tr th:only-of-type {\n",
       "        vertical-align: middle;\n",
       "    }\n",
       "\n",
       "    .dataframe tbody tr th {\n",
       "        vertical-align: top;\n",
       "    }\n",
       "\n",
       "    .dataframe thead th {\n",
       "        text-align: right;\n",
       "    }\n",
       "</style>\n",
       "<table border=\"1\" class=\"dataframe\">\n",
       "  <thead>\n",
       "    <tr style=\"text-align: right;\">\n",
       "      <th></th>\n",
       "      <th>id</th>\n",
       "      <th>vendor_id</th>\n",
       "      <th>pickup_datetime</th>\n",
       "      <th>dropoff_datetime</th>\n",
       "      <th>passenger_count</th>\n",
       "      <th>pickup_longitude</th>\n",
       "      <th>pickup_latitude</th>\n",
       "      <th>dropoff_longitude</th>\n",
       "      <th>dropoff_latitude</th>\n",
       "      <th>store_and_fwd_flag</th>\n",
       "      <th>...</th>\n",
       "      <th>DayofMonth</th>\n",
       "      <th>Hour</th>\n",
       "      <th>dayofweek</th>\n",
       "      <th>avg_speed_h</th>\n",
       "      <th>avg_speed_m</th>\n",
       "      <th>pickup_lat_bin</th>\n",
       "      <th>pickup_long_bin</th>\n",
       "      <th>total_distance</th>\n",
       "      <th>total_travel_time</th>\n",
       "      <th>number_of_steps</th>\n",
       "    </tr>\n",
       "  </thead>\n",
       "  <tbody>\n",
       "    <tr>\n",
       "      <th>0</th>\n",
       "      <td>id2875421</td>\n",
       "      <td>2</td>\n",
       "      <td>2016-03-14 17:24:55</td>\n",
       "      <td>2016-03-14 17:32:30</td>\n",
       "      <td>1</td>\n",
       "      <td>-73.982</td>\n",
       "      <td>40.768</td>\n",
       "      <td>-73.965</td>\n",
       "      <td>40.766</td>\n",
       "      <td>N</td>\n",
       "      <td>...</td>\n",
       "      <td>14</td>\n",
       "      <td>17</td>\n",
       "      <td>0</td>\n",
       "      <td>3.293</td>\n",
       "      <td>3.814</td>\n",
       "      <td>40.768</td>\n",
       "      <td>-73.982</td>\n",
       "      <td>2009.100</td>\n",
       "      <td>164.900</td>\n",
       "      <td>5.000</td>\n",
       "    </tr>\n",
       "    <tr>\n",
       "      <th>1</th>\n",
       "      <td>id2377394</td>\n",
       "      <td>1</td>\n",
       "      <td>2016-06-12 00:43:35</td>\n",
       "      <td>2016-06-12 00:54:38</td>\n",
       "      <td>1</td>\n",
       "      <td>-73.980</td>\n",
       "      <td>40.739</td>\n",
       "      <td>-73.999</td>\n",
       "      <td>40.731</td>\n",
       "      <td>N</td>\n",
       "      <td>...</td>\n",
       "      <td>12</td>\n",
       "      <td>0</td>\n",
       "      <td>6</td>\n",
       "      <td>2.723</td>\n",
       "      <td>3.666</td>\n",
       "      <td>40.739</td>\n",
       "      <td>-73.980</td>\n",
       "      <td>2513.200</td>\n",
       "      <td>332.000</td>\n",
       "      <td>6.000</td>\n",
       "    </tr>\n",
       "    <tr>\n",
       "      <th>2</th>\n",
       "      <td>id3858529</td>\n",
       "      <td>2</td>\n",
       "      <td>2016-01-19 11:35:24</td>\n",
       "      <td>2016-01-19 12:10:48</td>\n",
       "      <td>1</td>\n",
       "      <td>-73.979</td>\n",
       "      <td>40.764</td>\n",
       "      <td>-74.005</td>\n",
       "      <td>40.710</td>\n",
       "      <td>N</td>\n",
       "      <td>...</td>\n",
       "      <td>19</td>\n",
       "      <td>11</td>\n",
       "      <td>1</td>\n",
       "      <td>3.006</td>\n",
       "      <td>3.862</td>\n",
       "      <td>40.764</td>\n",
       "      <td>-73.979</td>\n",
       "      <td>11060.800</td>\n",
       "      <td>767.600</td>\n",
       "      <td>16.000</td>\n",
       "    </tr>\n",
       "    <tr>\n",
       "      <th>3</th>\n",
       "      <td>id3504673</td>\n",
       "      <td>2</td>\n",
       "      <td>2016-04-06 19:32:31</td>\n",
       "      <td>2016-04-06 19:39:40</td>\n",
       "      <td>1</td>\n",
       "      <td>-74.010</td>\n",
       "      <td>40.720</td>\n",
       "      <td>-74.012</td>\n",
       "      <td>40.707</td>\n",
       "      <td>N</td>\n",
       "      <td>...</td>\n",
       "      <td>6</td>\n",
       "      <td>19</td>\n",
       "      <td>2</td>\n",
       "      <td>3.463</td>\n",
       "      <td>3.873</td>\n",
       "      <td>40.720</td>\n",
       "      <td>-74.010</td>\n",
       "      <td>1779.400</td>\n",
       "      <td>235.800</td>\n",
       "      <td>4.000</td>\n",
       "    </tr>\n",
       "    <tr>\n",
       "      <th>4</th>\n",
       "      <td>id2181028</td>\n",
       "      <td>2</td>\n",
       "      <td>2016-03-26 13:30:55</td>\n",
       "      <td>2016-03-26 13:38:10</td>\n",
       "      <td>1</td>\n",
       "      <td>-73.973</td>\n",
       "      <td>40.793</td>\n",
       "      <td>-73.973</td>\n",
       "      <td>40.783</td>\n",
       "      <td>N</td>\n",
       "      <td>...</td>\n",
       "      <td>26</td>\n",
       "      <td>13</td>\n",
       "      <td>5</td>\n",
       "      <td>2.732</td>\n",
       "      <td>2.757</td>\n",
       "      <td>40.793</td>\n",
       "      <td>-73.973</td>\n",
       "      <td>1614.900</td>\n",
       "      <td>140.100</td>\n",
       "      <td>5.000</td>\n",
       "    </tr>\n",
       "  </tbody>\n",
       "</table>\n",
       "<p>5 rows × 33 columns</p>\n",
       "</div>"
      ],
      "text/plain": [
       "          id  vendor_id     pickup_datetime    dropoff_datetime  \\\n",
       "0  id2875421          2 2016-03-14 17:24:55 2016-03-14 17:32:30   \n",
       "1  id2377394          1 2016-06-12 00:43:35 2016-06-12 00:54:38   \n",
       "2  id3858529          2 2016-01-19 11:35:24 2016-01-19 12:10:48   \n",
       "3  id3504673          2 2016-04-06 19:32:31 2016-04-06 19:39:40   \n",
       "4  id2181028          2 2016-03-26 13:30:55 2016-03-26 13:38:10   \n",
       "\n",
       "   passenger_count  pickup_longitude  pickup_latitude  dropoff_longitude  \\\n",
       "0                1           -73.982           40.768            -73.965   \n",
       "1                1           -73.980           40.739            -73.999   \n",
       "2                1           -73.979           40.764            -74.005   \n",
       "3                1           -74.010           40.720            -74.012   \n",
       "4                1           -73.973           40.793            -73.973   \n",
       "\n",
       "   dropoff_latitude store_and_fwd_flag       ...         DayofMonth Hour  \\\n",
       "0            40.766                  N       ...                 14   17   \n",
       "1            40.731                  N       ...                 12    0   \n",
       "2            40.710                  N       ...                 19   11   \n",
       "3            40.707                  N       ...                  6   19   \n",
       "4            40.783                  N       ...                 26   13   \n",
       "\n",
       "   dayofweek  avg_speed_h  avg_speed_m  pickup_lat_bin  pickup_long_bin  \\\n",
       "0          0        3.293        3.814          40.768          -73.982   \n",
       "1          6        2.723        3.666          40.739          -73.980   \n",
       "2          1        3.006        3.862          40.764          -73.979   \n",
       "3          2        3.463        3.873          40.720          -74.010   \n",
       "4          5        2.732        2.757          40.793          -73.973   \n",
       "\n",
       "   total_distance  total_travel_time  number_of_steps  \n",
       "0        2009.100            164.900            5.000  \n",
       "1        2513.200            332.000            6.000  \n",
       "2       11060.800            767.600           16.000  \n",
       "3        1779.400            235.800            4.000  \n",
       "4        1614.900            140.100            5.000  \n",
       "\n",
       "[5 rows x 33 columns]"
      ]
     },
     "execution_count": 56,
     "metadata": {},
     "output_type": "execute_result"
    }
   ],
   "source": [
    "train.head()"
   ]
  },
  {
   "cell_type": "code",
   "execution_count": 57,
   "metadata": {},
   "outputs": [
    {
     "data": {
      "text/plain": [
       "((1437128, 2), (625134, 2))"
      ]
     },
     "execution_count": 57,
     "metadata": {},
     "output_type": "execute_result"
    }
   ],
   "source": [
    "vendor_train.shape,vendor_test.shape"
   ]
  },
  {
   "cell_type": "code",
   "execution_count": 58,
   "metadata": {},
   "outputs": [
    {
     "data": {
      "text/plain": [
       "((1437128, 7), (625134, 8))"
      ]
     },
     "execution_count": 58,
     "metadata": {},
     "output_type": "execute_result"
    }
   ],
   "source": [
    "passenger_count_train.shape,passenger_count_test.shape"
   ]
  },
  {
   "cell_type": "code",
   "execution_count": 59,
   "metadata": {},
   "outputs": [
    {
     "data": {
      "text/plain": [
       "((1437128, 2), (625134, 2))"
      ]
     },
     "execution_count": 59,
     "metadata": {},
     "output_type": "execute_result"
    }
   ],
   "source": [
    "store_and_fwd_flag_train.shape,store_and_fwd_flag_test.shape\n"
   ]
  },
  {
   "cell_type": "code",
   "execution_count": 60,
   "metadata": {},
   "outputs": [
    {
     "data": {
      "text/plain": [
       "((1437128, 100), (625134, 100))"
      ]
     },
     "execution_count": 60,
     "metadata": {},
     "output_type": "execute_result"
    }
   ],
   "source": [
    "cluster_pickup_train.shape,cluster_pickup_test.shape\n"
   ]
  },
  {
   "cell_type": "code",
   "execution_count": 61,
   "metadata": {},
   "outputs": [
    {
     "data": {
      "text/plain": [
       "((1437128, 100), (625134, 100))"
      ]
     },
     "execution_count": 61,
     "metadata": {},
     "output_type": "execute_result"
    }
   ],
   "source": [
    "cluster_dropoff_train.shape,cluster_dropoff_test.shape\n"
   ]
  },
  {
   "cell_type": "code",
   "execution_count": 62,
   "metadata": {},
   "outputs": [
    {
     "data": {
      "text/plain": [
       "((1437128, 6), (625134, 6))"
      ]
     },
     "execution_count": 62,
     "metadata": {},
     "output_type": "execute_result"
    }
   ],
   "source": [
    "month_train.shape,month_test.shape\n"
   ]
  },
  {
   "cell_type": "code",
   "execution_count": 63,
   "metadata": {},
   "outputs": [
    {
     "data": {
      "text/plain": [
       "((1437128, 31), (625134, 31))"
      ]
     },
     "execution_count": 63,
     "metadata": {},
     "output_type": "execute_result"
    }
   ],
   "source": [
    "dom_train.shape,dom_test.shape\n"
   ]
  },
  {
   "cell_type": "code",
   "execution_count": 64,
   "metadata": {},
   "outputs": [
    {
     "data": {
      "text/plain": [
       "((1437128, 24), (625134, 24))"
      ]
     },
     "execution_count": 64,
     "metadata": {},
     "output_type": "execute_result"
    }
   ],
   "source": [
    "hour_train.shape,hour_test.shape\n"
   ]
  },
  {
   "cell_type": "code",
   "execution_count": 65,
   "metadata": {},
   "outputs": [
    {
     "data": {
      "text/plain": [
       "((1437128, 7), (625134, 7))"
      ]
     },
     "execution_count": 65,
     "metadata": {},
     "output_type": "execute_result"
    }
   ],
   "source": [
    "dow_train.shape,dow_test.shape\n"
   ]
  },
  {
   "cell_type": "code",
   "execution_count": 66,
   "metadata": {},
   "outputs": [
    {
     "data": {
      "text/plain": [
       "'\\nLooking at the output you can tell that everything matches nicely, except for passenger count. We knew this however, since there were two trips with 9 passengers in the test set where there was no trips with 9 passengers in the train set. Like we concluded, this is clearly an error/outlier\\n'"
      ]
     },
     "execution_count": 66,
     "metadata": {},
     "output_type": "execute_result"
    }
   ],
   "source": [
    "'''\n",
    "Looking at the output you can tell that everything matches nicely, except for passenger count. We knew this however, since there were two trips with 9 passengers in the test set where there was no trips with 9 passengers in the train set. Like we concluded, this is clearly an error/outlier\n",
    "'''"
   ]
  },
  {
   "cell_type": "code",
   "execution_count": 67,
   "metadata": {},
   "outputs": [],
   "source": [
    "passenger_count_test = passenger_count_test.drop('pc_9', axis = 1)\n"
   ]
  },
  {
   "cell_type": "code",
   "execution_count": 68,
   "metadata": {},
   "outputs": [
    {
     "data": {
      "text/plain": [
       "\"\\nAnd it would seem we've finally reached the end of what is easily considered the most difficult part of data science: cleaning and wrangling the data into a usable format/structure. The last part before we actually start training the model is to drop the categorical variables (since we replaced these with our indicator variables in the previous step) and compile the final version of our test and train sets\\n\""
      ]
     },
     "execution_count": 68,
     "metadata": {},
     "output_type": "execute_result"
    }
   ],
   "source": [
    "'''\n",
    "And it would seem we've finally reached the end of what is easily considered the most difficult part of data science: cleaning and wrangling the data into a usable format/structure. The last part before we actually start training the model is to drop the categorical variables (since we replaced these with our indicator variables in the previous step) and compile the final version of our test and train sets\n",
    "'''"
   ]
  },
  {
   "cell_type": "code",
   "execution_count": 69,
   "metadata": {},
   "outputs": [
    {
     "data": {
      "text/plain": [
       "Index(['id', 'vendor_id', 'pickup_datetime', 'dropoff_datetime',\n",
       "       'passenger_count', 'pickup_longitude', 'pickup_latitude',\n",
       "       'dropoff_longitude', 'dropoff_latitude', 'store_and_fwd_flag',\n",
       "       'trip_duration', 'pickup_date', 'log_trip_duration', 'pickup_pca0',\n",
       "       'pickup_pca1', 'dropoff_pca0', 'dropoff_pca1', 'distance_haversine',\n",
       "       'distance_dummy_manhattan', 'direction', 'pickup_cluster',\n",
       "       'dropoff_cluster', 'Month', 'DayofMonth', 'Hour', 'dayofweek',\n",
       "       'avg_speed_h', 'avg_speed_m', 'pickup_lat_bin', 'pickup_long_bin',\n",
       "       'total_distance', 'total_travel_time', 'number_of_steps'],\n",
       "      dtype='object')"
      ]
     },
     "execution_count": 69,
     "metadata": {},
     "output_type": "execute_result"
    }
   ],
   "source": [
    "train.columns"
   ]
  },
  {
   "cell_type": "code",
   "execution_count": 70,
   "metadata": {},
   "outputs": [],
   "source": [
    "train = train.drop(['id','vendor_id','passenger_count','store_and_fwd_flag','Month','DayofMonth','Hour','dayofweek',\n",
    "                   'pickup_longitude','pickup_latitude','dropoff_longitude','dropoff_latitude'],axis = 1)\n",
    "Test_id = test['id']\n",
    "test = test.drop(['id','vendor_id','passenger_count','store_and_fwd_flag','Month','DayofMonth','Hour','dayofweek',\n",
    "                   'pickup_longitude','pickup_latitude','dropoff_longitude','dropoff_latitude'], axis = 1)\n",
    "\n",
    "train = train.drop(['dropoff_datetime','avg_speed_h','avg_speed_m','pickup_lat_bin','pickup_long_bin','trip_duration'], axis = 1)"
   ]
  },
  {
   "cell_type": "code",
   "execution_count": 71,
   "metadata": {},
   "outputs": [
    {
     "data": {
      "text/plain": [
       "((1437128, 15), (625134, 14))"
      ]
     },
     "execution_count": 71,
     "metadata": {},
     "output_type": "execute_result"
    }
   ],
   "source": [
    "train.shape,test.shape\n"
   ]
  },
  {
   "cell_type": "code",
   "execution_count": 72,
   "metadata": {},
   "outputs": [],
   "source": [
    "Train_Master = pd.concat([train,\n",
    "                          vendor_train,\n",
    "                          passenger_count_train,\n",
    "                          store_and_fwd_flag_train,\n",
    "                          cluster_pickup_train,\n",
    "                          cluster_dropoff_train,\n",
    "                         month_train,\n",
    "                         dom_train,\n",
    "                          hour_test,\n",
    "                          dow_train\n",
    "                         ], axis=1)"
   ]
  },
  {
   "cell_type": "code",
   "execution_count": 73,
   "metadata": {},
   "outputs": [],
   "source": [
    "Test_master = pd.concat([test, \n",
    "                         vendor_test,\n",
    "                         passenger_count_test,\n",
    "                         store_and_fwd_flag_test,\n",
    "                         cluster_pickup_test,\n",
    "                         cluster_dropoff_test,\n",
    "                         month_test,\n",
    "                         dom_test,\n",
    "                          hour_test,\n",
    "                          dow_test], axis=1)"
   ]
  },
  {
   "cell_type": "code",
   "execution_count": 74,
   "metadata": {},
   "outputs": [
    {
     "data": {
      "text/plain": [
       "((1437128, 294), (625134, 293))"
      ]
     },
     "execution_count": 74,
     "metadata": {},
     "output_type": "execute_result"
    }
   ],
   "source": [
    "Train_Master.shape,Test_master.shape\n"
   ]
  },
  {
   "cell_type": "code",
   "execution_count": 75,
   "metadata": {},
   "outputs": [
    {
     "data": {
      "text/plain": [
       "Index(['pickup_datetime', 'pickup_date', 'log_trip_duration', 'pickup_pca0',\n",
       "       'pickup_pca1', 'dropoff_pca0', 'dropoff_pca1', 'distance_haversine',\n",
       "       'distance_dummy_manhattan', 'direction',\n",
       "       ...\n",
       "       'h_21', 'h_22', 'h_23', 'dow_0', 'dow_1', 'dow_2', 'dow_3', 'dow_4',\n",
       "       'dow_5', 'dow_6'],\n",
       "      dtype='object', length=294)"
      ]
     },
     "execution_count": 75,
     "metadata": {},
     "output_type": "execute_result"
    }
   ],
   "source": [
    "Train_Master.columns"
   ]
  },
  {
   "cell_type": "code",
   "execution_count": 76,
   "metadata": {},
   "outputs": [],
   "source": [
    "#There're two more columns we can drop because we keep the information from those two columns in other variables: `pickup_datetime` and `pickup_date`.\n",
    "Train_Master = Train_Master.drop(['pickup_datetime','pickup_date'],axis = 1)\n",
    "Test_master = Test_master.drop(['pickup_datetime','pickup_date'],axis = 1)"
   ]
  },
  {
   "cell_type": "code",
   "execution_count": 77,
   "metadata": {},
   "outputs": [
    {
     "data": {
      "text/plain": [
       "((1437128, 292), (625134, 291))"
      ]
     },
     "execution_count": 77,
     "metadata": {},
     "output_type": "execute_result"
    }
   ],
   "source": [
    "Train_Master.shape,Test_master.shape\n"
   ]
  },
  {
   "cell_type": "code",
   "execution_count": 78,
   "metadata": {},
   "outputs": [
    {
     "ename": "SyntaxError",
     "evalue": "invalid syntax (<ipython-input-78-d7433d67164b>, line 1)",
     "output_type": "error",
     "traceback": [
      "\u001b[0;36m  File \u001b[0;32m\"<ipython-input-78-d7433d67164b>\"\u001b[0;36m, line \u001b[0;32m1\u001b[0m\n\u001b[0;31m    This is exactly what we're expecting to see. The training set should\u001b[0m\n\u001b[0m                       ^\u001b[0m\n\u001b[0;31mSyntaxError\u001b[0m\u001b[0;31m:\u001b[0m invalid syntax\n"
     ]
    }
   ],
   "source": [
    "This is exactly what we're expecting to see. The training set should \n",
    "have one more column than the test set, since it contains our target \n",
    "variable (which the test set doesn't). The next step is to split the \n",
    "training set into sub-training and sub-testing sets. The reason for \n",
    "this is to be able to tweak model parameters to increase accuracy \n",
    "(i.e. decrease the root mean square error [RSME] value) without \n",
    "creating bias towards the test set. Also, and perhaps more importantly,\n",
    "is that we need a validation set to use with XGBoost. So the XGBoost \n",
    "algorithm takes three datasets: a training set, a test set, and a \n",
    "validation set. The validation set is used to continuously evaluate\n",
    "the accuracy of the training model, and finally the model is used to\n",
    "make predictions against the test set. So splitting out the training\n",
    "set into a separate train and test set gives us a test sample of which\n",
    "we know the outcome variables. Makes sense, right?\n",
    "\n",
    "\n",
    "For the sake of this tutorial we'll stick to 100 000 data points, \n",
    "this just makes the training process faster and a little less \n",
    "cumbersome to work with. Also, we'll split the training set into\n",
    "a 80-20 train and test set. So from this, there are two things you\n",
    "can do: change the ratios by which you split the original training\n",
    "set (`Train_Master`), e.g. use a 70-30 ratio and see what the results\n",
    "are. Also, you can include all the data points instead of just 100k. \n",
    "This should also have quite a siginficant effect on the outcome.\n",
    "\n",
    "\n",
    "So the split would look something like this:"
   ]
  },
  {
   "cell_type": "code",
   "execution_count": 79,
   "metadata": {},
   "outputs": [],
   "source": [
    "Train, Test = train_test_split(Train_Master[0:100000], test_size = 0.2)\n"
   ]
  },
  {
   "cell_type": "code",
   "execution_count": 80,
   "metadata": {},
   "outputs": [],
   "source": [
    "X_train = Train.drop(['log_trip_duration'], axis=1)\n",
    "Y_train = Train[\"log_trip_duration\"]\n",
    "X_test = Test.drop(['log_trip_duration'], axis=1)\n",
    "Y_test = Test[\"log_trip_duration\"]\n",
    "\n",
    "Y_test = Y_test.reset_index().drop('index',axis = 1)\n",
    "Y_train = Y_train.reset_index().drop('index',axis = 1)"
   ]
  },
  {
   "cell_type": "code",
   "execution_count": 81,
   "metadata": {},
   "outputs": [],
   "source": [
    "dtrain = xgb.DMatrix(X_train, label=Y_train)\n",
    "dvalid = xgb.DMatrix(X_test, label=Y_test)\n",
    "dtest = xgb.DMatrix(Test_master)\n",
    "watchlist = [(dtrain, 'train'), (dvalid, 'valid')]"
   ]
  },
  {
   "cell_type": "code",
   "execution_count": 82,
   "metadata": {},
   "outputs": [],
   "source": [
    "# 5. XGBoost - Training the Model and Testing the Accuracy\n",
    "from datetime import datetime\n",
    "xgb_pars = {'min_child_weight': 50, 'eta': 0.3, 'colsample_bytree': 0.3, 'max_depth': 10,\n",
    "            'subsample': 0.8, 'lambda': 1., 'nthread': 4, 'booster' : 'gbtree', 'silent': 1,\n",
    "            'eval_metric': 'rmse', 'objective': 'reg:linear'}\n",
    "# md = [6]\n",
    "# lr = [0.1,0.3]\n",
    "# mcw = [20,25,30]\n",
    "# for m in md:\n",
    "#    for l in lr:\n",
    "#        for n in mcw:\n",
    "#            t0 = datetime.now()\n",
    "#            xgb_pars = {'min_child_weight': mcw, 'eta': lr, 'colsample_bytree': 0.9, \n",
    "#                        'max_depth': md,\n",
    "#            'subsample': 0.9, 'lambda': 1., 'nthread': -1, 'booster' : 'gbtree', 'silent': 1,\n",
    "#            'eval_metric': 'rmse', 'objective': 'reg:linear'}\n",
    "#            model = xgb.train(xgb_pars, dtrain, 50, watchlist, early_stopping_rounds=10, maximize=False, verbose_eval=1)"
   ]
  },
  {
   "cell_type": "code",
   "execution_count": 86,
   "metadata": {},
   "outputs": [
    {
     "name": "stdout",
     "output_type": "stream",
     "text": [
      "[0]\ttrain-rmse:4.22997\tvalid-rmse:4.22943\n",
      "Multiple eval metrics have been passed: 'valid-rmse' will be used for early stopping.\n",
      "\n",
      "Will train until valid-rmse hasn't improved in 50 rounds.\n",
      "[10]\ttrain-rmse:0.415904\tvalid-rmse:0.434428\n",
      "[20]\ttrain-rmse:0.378337\tvalid-rmse:0.406112\n",
      "[30]\ttrain-rmse:0.369725\tvalid-rmse:0.403833\n",
      "[40]\ttrain-rmse:0.364358\tvalid-rmse:0.40385\n",
      "[50]\ttrain-rmse:0.359205\tvalid-rmse:0.403508\n",
      "[59]\ttrain-rmse:0.355263\tvalid-rmse:0.403777\n"
     ]
    }
   ],
   "source": [
    "t0 = datetime.now()\n",
    "model = xgb.train(xgb_pars, dtrain, 60, watchlist, early_stopping_rounds=50,\n",
    "                  maximize=False, verbose_eval=10)"
   ]
  },
  {
   "cell_type": "code",
   "execution_count": 87,
   "metadata": {},
   "outputs": [
    {
     "name": "stdout",
     "output_type": "stream",
     "text": [
      "Modeling RMSLE 0.40346\n",
      "Training time: 25 seconds\n"
     ]
    }
   ],
   "source": [
    "print('Modeling RMSLE %.5f' % model.best_score)\n",
    "t1 = datetime.now()\n",
    "print('Training time: %i seconds' % (t1 - t0).seconds)\n"
   ]
  },
  {
   "cell_type": "code",
   "execution_count": 90,
   "metadata": {},
   "outputs": [],
   "source": [
    "FOREVER_COMPUTING_FLAG = False\n",
    "xgb_pars = []\n",
    "for MCW in [10, 20, 50, 75, 100]:\n",
    "    for ETA in [0.05, 0.1, 0.15]:\n",
    "        for CS in [0.3, 0.4, 0.5]:\n",
    "            for MD in [6, 8, 10, 12, 15]:\n",
    "                for SS in [0.5, 0.6, 0.7, 0.8, 0.9]:\n",
    "                    for LAMBDA in [0.5, 1., 1.5,  2., 3.]:\n",
    "                        xgb_pars.append({'min_child_weight': MCW, 'eta': ETA, \n",
    "                                         'colsample_bytree': CS, 'max_depth': MD,\n",
    "                                         'subsample': SS, 'lambda': LAMBDA, \n",
    "                                         'nthread': -1, 'booster' : 'gbtree', 'eval_metric': 'rmse',\n",
    "                                         'silent': 1, 'objective': 'reg:linear'})\n",
    "\n",
    "while FOREVER_COMPUTING_FLAG:\n",
    "    xgb_par = np.random.choice(xgb_pars, 1)[0]\n",
    "    print(xgb_par)\n",
    "    model = xgb.train(xgb_par, dtrain, 2000, watchlist, early_stopping_rounds=50,\n",
    "                      maximize=False, verbose_eval=100)\n",
    "    print('Modeling RMSLE %.5f' % model.best_score)"
   ]
  },
  {
   "cell_type": "code",
   "execution_count": 88,
   "metadata": {},
   "outputs": [
    {
     "data": {
      "text/plain": [
       "'Feature importance analysis\\nXgboost models has feature importance score which is often used. Please note that it does not necessary means that the feature is really important, higher score means that the feature was used in more tree splits. Features with strong correlation or with high cardinality bias the result.\\n\\nI tried a simple backward feature elimination round. For each feature a new model was trained without that feature. It helps to understand what are the essential features which we should not remove. Since it would take a few hours to train 56 models I use my offline validation result.\\n\\nPlease note the OSRM features were added later so they are not included in the following section. Trust me they are important ;)\\n'"
      ]
     },
     "execution_count": 88,
     "metadata": {},
     "output_type": "execute_result"
    }
   ],
   "source": [
    "'''Feature importance analysis\n",
    "Xgboost models has feature importance score which is often used. Please note that it does not necessary means that the feature is really important, higher score means that the feature was used in more tree splits. Features with strong correlation or with high cardinality bias the result.\n",
    "\n",
    "I tried a simple backward feature elimination round. For each feature a new model was trained without that feature. It helps to understand what are the essential features which we should not remove. Since it would take a few hours to train 56 models I use my offline validation result.\n",
    "\n",
    "Please note the OSRM features were added later so they are not included in the following section. Trust me they are important ;)\n",
    "'''"
   ]
  },
  {
   "cell_type": "code",
   "execution_count": 89,
   "metadata": {},
   "outputs": [
    {
     "ename": "NameError",
     "evalue": "name 'feature_names' is not defined",
     "output_type": "error",
     "traceback": [
      "\u001b[0;31m---------------------------------------------------------------------------\u001b[0m",
      "\u001b[0;31mNameError\u001b[0m                                 Traceback (most recent call last)",
      "\u001b[0;32m<ipython-input-89-72ac1acd2a4e>\u001b[0m in \u001b[0;36m<module>\u001b[0;34m()\u001b[0m\n\u001b[1;32m      1\u001b[0m \u001b[0mrmse_wo_feature\u001b[0m \u001b[0;34m=\u001b[0m \u001b[0;34m[\u001b[0m\u001b[0;36m0.39224\u001b[0m\u001b[0;34m,\u001b[0m \u001b[0;36m0.38816\u001b[0m\u001b[0;34m,\u001b[0m \u001b[0;36m0.38726\u001b[0m\u001b[0;34m,\u001b[0m \u001b[0;36m0.38780\u001b[0m\u001b[0;34m,\u001b[0m \u001b[0;36m0.38773\u001b[0m\u001b[0;34m,\u001b[0m \u001b[0;36m0.38792\u001b[0m\u001b[0;34m,\u001b[0m \u001b[0;36m0.38753\u001b[0m\u001b[0;34m,\u001b[0m \u001b[0;36m0.38745\u001b[0m\u001b[0;34m,\u001b[0m \u001b[0;36m0.38710\u001b[0m\u001b[0;34m,\u001b[0m \u001b[0;36m0.38767\u001b[0m\u001b[0;34m,\u001b[0m \u001b[0;36m0.38738\u001b[0m\u001b[0;34m,\u001b[0m \u001b[0;36m0.38750\u001b[0m\u001b[0;34m,\u001b[0m \u001b[0;36m0.38678\u001b[0m\u001b[0;34m,\u001b[0m \u001b[0;36m0.39359\u001b[0m\u001b[0;34m,\u001b[0m \u001b[0;36m0.38672\u001b[0m\u001b[0;34m,\u001b[0m \u001b[0;36m0.38794\u001b[0m\u001b[0;34m,\u001b[0m \u001b[0;36m0.38694\u001b[0m\u001b[0;34m,\u001b[0m \u001b[0;36m0.38750\u001b[0m\u001b[0;34m,\u001b[0m \u001b[0;36m0.38742\u001b[0m\u001b[0;34m,\u001b[0m \u001b[0;36m0.38673\u001b[0m\u001b[0;34m,\u001b[0m \u001b[0;36m0.38754\u001b[0m\u001b[0;34m,\u001b[0m \u001b[0;36m0.38705\u001b[0m\u001b[0;34m,\u001b[0m \u001b[0;36m0.38736\u001b[0m\u001b[0;34m,\u001b[0m \u001b[0;36m0.38741\u001b[0m\u001b[0;34m,\u001b[0m \u001b[0;36m0.38764\u001b[0m\u001b[0;34m,\u001b[0m \u001b[0;36m0.38730\u001b[0m\u001b[0;34m,\u001b[0m \u001b[0;36m0.38676\u001b[0m\u001b[0;34m,\u001b[0m \u001b[0;36m0.38696\u001b[0m\u001b[0;34m,\u001b[0m \u001b[0;36m0.38750\u001b[0m\u001b[0;34m,\u001b[0m \u001b[0;36m0.38705\u001b[0m\u001b[0;34m,\u001b[0m \u001b[0;36m0.38746\u001b[0m\u001b[0;34m,\u001b[0m \u001b[0;36m0.38727\u001b[0m\u001b[0;34m,\u001b[0m \u001b[0;36m0.38750\u001b[0m\u001b[0;34m,\u001b[0m \u001b[0;36m0.38771\u001b[0m\u001b[0;34m,\u001b[0m \u001b[0;36m0.38747\u001b[0m\u001b[0;34m,\u001b[0m \u001b[0;36m0.38907\u001b[0m\u001b[0;34m,\u001b[0m \u001b[0;36m0.38719\u001b[0m\u001b[0;34m,\u001b[0m \u001b[0;36m0.38756\u001b[0m\u001b[0;34m,\u001b[0m \u001b[0;36m0.38701\u001b[0m\u001b[0;34m,\u001b[0m \u001b[0;36m0.38734\u001b[0m\u001b[0;34m,\u001b[0m \u001b[0;36m0.38782\u001b[0m\u001b[0;34m,\u001b[0m \u001b[0;36m0.38673\u001b[0m\u001b[0;34m,\u001b[0m \u001b[0;36m0.38797\u001b[0m\u001b[0;34m,\u001b[0m \u001b[0;36m0.38720\u001b[0m\u001b[0;34m,\u001b[0m \u001b[0;36m0.38709\u001b[0m\u001b[0;34m,\u001b[0m \u001b[0;36m0.38704\u001b[0m\u001b[0;34m,\u001b[0m \u001b[0;36m0.38809\u001b[0m\u001b[0;34m,\u001b[0m \u001b[0;36m0.38768\u001b[0m\u001b[0;34m,\u001b[0m \u001b[0;36m0.38798\u001b[0m\u001b[0;34m,\u001b[0m \u001b[0;36m0.38849\u001b[0m\u001b[0;34m,\u001b[0m \u001b[0;36m0.38690\u001b[0m\u001b[0;34m,\u001b[0m \u001b[0;36m0.38753\u001b[0m\u001b[0;34m,\u001b[0m \u001b[0;36m0.38721\u001b[0m\u001b[0;34m,\u001b[0m \u001b[0;36m0.38807\u001b[0m\u001b[0;34m,\u001b[0m \u001b[0;36m0.38830\u001b[0m\u001b[0;34m,\u001b[0m \u001b[0;36m0.38750\u001b[0m\u001b[0;34m,\u001b[0m \u001b[0mnp\u001b[0m\u001b[0;34m.\u001b[0m\u001b[0mnan\u001b[0m\u001b[0;34m,\u001b[0m \u001b[0mnp\u001b[0m\u001b[0;34m.\u001b[0m\u001b[0mnan\u001b[0m\u001b[0;34m,\u001b[0m \u001b[0mnp\u001b[0m\u001b[0;34m.\u001b[0m\u001b[0mnan\u001b[0m\u001b[0;34m]\u001b[0m\u001b[0;34m\u001b[0m\u001b[0m\n\u001b[1;32m      2\u001b[0m \u001b[0mfeature_importance_dict\u001b[0m \u001b[0;34m=\u001b[0m \u001b[0mmodel\u001b[0m\u001b[0;34m.\u001b[0m\u001b[0mget_fscore\u001b[0m\u001b[0;34m(\u001b[0m\u001b[0;34m)\u001b[0m\u001b[0;34m\u001b[0m\u001b[0m\n\u001b[0;32m----> 3\u001b[0;31m \u001b[0mfs\u001b[0m \u001b[0;34m=\u001b[0m \u001b[0;34m[\u001b[0m\u001b[0;34m'f%i'\u001b[0m \u001b[0;34m%\u001b[0m \u001b[0mi\u001b[0m \u001b[0;32mfor\u001b[0m \u001b[0mi\u001b[0m \u001b[0;32min\u001b[0m \u001b[0mrange\u001b[0m\u001b[0;34m(\u001b[0m\u001b[0mlen\u001b[0m\u001b[0;34m(\u001b[0m\u001b[0mfeature_names\u001b[0m\u001b[0;34m)\u001b[0m\u001b[0;34m)\u001b[0m\u001b[0;34m]\u001b[0m\u001b[0;34m\u001b[0m\u001b[0m\n\u001b[0m\u001b[1;32m      4\u001b[0m f1 = pd.DataFrame({'f': list(feature_importance_dict.keys()),\n\u001b[1;32m      5\u001b[0m                    'importance': list(feature_importance_dict.values())})\n",
      "\u001b[0;31mNameError\u001b[0m: name 'feature_names' is not defined"
     ]
    }
   ],
   "source": [
    "rmse_wo_feature = [0.39224, 0.38816, 0.38726, 0.38780, 0.38773, 0.38792, 0.38753, 0.38745, 0.38710, 0.38767, 0.38738, 0.38750, 0.38678, 0.39359, 0.38672, 0.38794, 0.38694, 0.38750, 0.38742, 0.38673, 0.38754, 0.38705, 0.38736, 0.38741, 0.38764, 0.38730, 0.38676, 0.38696, 0.38750, 0.38705, 0.38746, 0.38727, 0.38750, 0.38771, 0.38747, 0.38907, 0.38719, 0.38756, 0.38701, 0.38734, 0.38782, 0.38673, 0.38797, 0.38720, 0.38709, 0.38704, 0.38809, 0.38768, 0.38798, 0.38849, 0.38690, 0.38753, 0.38721, 0.38807, 0.38830, 0.38750, np.nan, np.nan, np.nan]\n",
    "feature_importance_dict = model.get_fscore()\n",
    "fs = ['f%i' % i for i in range(len(feature_names))]\n",
    "f1 = pd.DataFrame({'f': list(feature_importance_dict.keys()),\n",
    "                   'importance': list(feature_importance_dict.values())})\n",
    "f2 = pd.DataFrame({'f': fs, 'feature_name': feature_names, 'rmse_wo_feature': rmse_wo_feature})\n",
    "feature_importance = pd.merge(f1, f2, how='right', on='f')\n",
    "feature_importance = feature_importance.fillna(0)\n",
    "\n",
    "feature_importance[['feature_name', 'importance', 'rmse_wo_feature']].sort_values(by='importance', ascending=False)\n"
   ]
  },
  {
   "cell_type": "code",
   "execution_count": null,
   "metadata": {},
   "outputs": [],
   "source": [
    "lgb.plot_importance(model, max_num_features=28, height=0.7)\n",
    "pred = model.predict(dtest)\n",
    "pred = np.exp(pred) - 1\n",
    "# Time for Submission\n",
    "\n",
    "submission = pd.concat([Test_id, pd.DataFrame(pred)], axis=1)\n",
    "submission.columns = ['id','trip_duration']\n",
    "submission['trip_duration'] = submission.apply(lambda x : 1 if (x['trip_duration'] <= 0) else x['trip_duration'], axis = 1)\n",
    "submission.to_csv(\"data/submission.csv\", index=False)"
   ]
  }
 ],
 "metadata": {
  "kernelspec": {
   "display_name": "Python 3",
   "language": "python",
   "name": "python3"
  },
  "language_info": {
   "codemirror_mode": {
    "name": "ipython",
    "version": 3
   },
   "file_extension": ".py",
   "mimetype": "text/x-python",
   "name": "python",
   "nbconvert_exporter": "python",
   "pygments_lexer": "ipython3",
   "version": "3.6.6"
  }
 },
 "nbformat": 4,
 "nbformat_minor": 2
}
